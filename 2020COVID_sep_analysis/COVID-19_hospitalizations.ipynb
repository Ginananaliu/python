{
 "cells": [
  {
   "cell_type": "markdown",
   "metadata": {},
   "source": [
    "### Loading the raw data"
   ]
  },
  {
   "cell_type": "markdown",
   "metadata": {},
   "source": [
    "#### `1`  Put \"https://data.sccgov.org/COVID-19/COVID-19-hospitalizations-by-date/5xkz-6esm\" into a DataFrame and clean it up."
   ]
  },
  {
   "cell_type": "code",
   "execution_count": 1,
   "metadata": {
    "scrolled": false
   },
   "outputs": [
    {
     "data": {
      "text/html": [
       "<div>\n",
       "<style scoped>\n",
       "    .dataframe tbody tr th:only-of-type {\n",
       "        vertical-align: middle;\n",
       "    }\n",
       "\n",
       "    .dataframe tbody tr th {\n",
       "        vertical-align: top;\n",
       "    }\n",
       "\n",
       "    .dataframe thead th {\n",
       "        text-align: right;\n",
       "    }\n",
       "</style>\n",
       "<table border=\"1\" class=\"dataframe\">\n",
       "  <thead>\n",
       "    <tr style=\"text-align: right;\">\n",
       "      <th></th>\n",
       "      <th>icu_covid</th>\n",
       "      <th>icu_other</th>\n",
       "      <th>non_icu_covid</th>\n",
       "      <th>covid_new</th>\n",
       "      <th>covid_total</th>\n",
       "      <th>other_total</th>\n",
       "    </tr>\n",
       "    <tr>\n",
       "      <th>Date</th>\n",
       "      <th></th>\n",
       "      <th></th>\n",
       "      <th></th>\n",
       "      <th></th>\n",
       "      <th></th>\n",
       "      <th></th>\n",
       "    </tr>\n",
       "  </thead>\n",
       "  <tbody>\n",
       "    <tr>\n",
       "      <th>2020-03-27</th>\n",
       "      <td>63!</td>\n",
       "      <td>NaN</td>\n",
       "      <td>62</td>\n",
       "      <td>NaN</td>\n",
       "      <td>125.0</td>\n",
       "      <td>0</td>\n",
       "    </tr>\n",
       "    <tr>\n",
       "      <th>2020-03-28</th>\n",
       "      <td>30!</td>\n",
       "      <td>NaN</td>\n",
       "      <td>111</td>\n",
       "      <td>NaN</td>\n",
       "      <td>141.0</td>\n",
       "      <td>0</td>\n",
       "    </tr>\n",
       "    <tr>\n",
       "      <th>2020-03-29</th>\n",
       "      <td>69!</td>\n",
       "      <td>NaN</td>\n",
       "      <td>81</td>\n",
       "      <td>NaN</td>\n",
       "      <td>150.0</td>\n",
       "      <td>0</td>\n",
       "    </tr>\n",
       "    <tr>\n",
       "      <th>2020-03-30</th>\n",
       "      <td>72!</td>\n",
       "      <td>NaN</td>\n",
       "      <td>82</td>\n",
       "      <td>NaN</td>\n",
       "      <td>154.0</td>\n",
       "      <td>0</td>\n",
       "    </tr>\n",
       "    <tr>\n",
       "      <th>2020-03-31</th>\n",
       "      <td>73!</td>\n",
       "      <td>NaN</td>\n",
       "      <td>76..</td>\n",
       "      <td>NaN</td>\n",
       "      <td>149.0</td>\n",
       "      <td>0</td>\n",
       "    </tr>\n",
       "  </tbody>\n",
       "</table>\n",
       "</div>"
      ],
      "text/plain": [
       "           icu_covid  icu_other non_icu_covid  covid_new  covid_total  \\\n",
       "Date                                                                    \n",
       "2020-03-27       63!        NaN            62        NaN        125.0   \n",
       "2020-03-28       30!        NaN           111        NaN        141.0   \n",
       "2020-03-29       69!        NaN            81        NaN        150.0   \n",
       "2020-03-30       72!        NaN            82        NaN        154.0   \n",
       "2020-03-31       73!        NaN          76..        NaN        149.0   \n",
       "\n",
       "            other_total  \n",
       "Date                     \n",
       "2020-03-27            0  \n",
       "2020-03-28            0  \n",
       "2020-03-29            0  \n",
       "2020-03-30            0  \n",
       "2020-03-31            0  "
      ]
     },
     "execution_count": 1,
     "metadata": {},
     "output_type": "execute_result"
    }
   ],
   "source": [
    "import pandas as pd\n",
    "hospitalizations = pd.read_csv(\"./hospitalizations.csv\", index_col=\"Date\")\n",
    "hospitalizations.head()"
   ]
  },
  {
   "cell_type": "markdown",
   "metadata": {},
   "source": [
    "#### `2` Drop no-interested colums. "
   ]
  },
  {
   "cell_type": "code",
   "execution_count": 2,
   "metadata": {},
   "outputs": [
    {
     "data": {
      "text/html": [
       "<div>\n",
       "<style scoped>\n",
       "    .dataframe tbody tr th:only-of-type {\n",
       "        vertical-align: middle;\n",
       "    }\n",
       "\n",
       "    .dataframe tbody tr th {\n",
       "        vertical-align: top;\n",
       "    }\n",
       "\n",
       "    .dataframe thead th {\n",
       "        text-align: right;\n",
       "    }\n",
       "</style>\n",
       "<table border=\"1\" class=\"dataframe\">\n",
       "  <thead>\n",
       "    <tr style=\"text-align: right;\">\n",
       "      <th></th>\n",
       "      <th>icu_covid</th>\n",
       "      <th>non_icu_covid</th>\n",
       "      <th>covid_new</th>\n",
       "      <th>covid_total</th>\n",
       "    </tr>\n",
       "    <tr>\n",
       "      <th>Date</th>\n",
       "      <th></th>\n",
       "      <th></th>\n",
       "      <th></th>\n",
       "      <th></th>\n",
       "    </tr>\n",
       "  </thead>\n",
       "  <tbody>\n",
       "    <tr>\n",
       "      <th>2020-03-27</th>\n",
       "      <td>63!</td>\n",
       "      <td>62</td>\n",
       "      <td>NaN</td>\n",
       "      <td>125.0</td>\n",
       "    </tr>\n",
       "    <tr>\n",
       "      <th>2020-03-28</th>\n",
       "      <td>30!</td>\n",
       "      <td>111</td>\n",
       "      <td>NaN</td>\n",
       "      <td>141.0</td>\n",
       "    </tr>\n",
       "    <tr>\n",
       "      <th>2020-03-29</th>\n",
       "      <td>69!</td>\n",
       "      <td>81</td>\n",
       "      <td>NaN</td>\n",
       "      <td>150.0</td>\n",
       "    </tr>\n",
       "    <tr>\n",
       "      <th>2020-03-30</th>\n",
       "      <td>72!</td>\n",
       "      <td>82</td>\n",
       "      <td>NaN</td>\n",
       "      <td>154.0</td>\n",
       "    </tr>\n",
       "    <tr>\n",
       "      <th>2020-03-31</th>\n",
       "      <td>73!</td>\n",
       "      <td>76..</td>\n",
       "      <td>NaN</td>\n",
       "      <td>149.0</td>\n",
       "    </tr>\n",
       "  </tbody>\n",
       "</table>\n",
       "</div>"
      ],
      "text/plain": [
       "           icu_covid non_icu_covid  covid_new  covid_total\n",
       "Date                                                      \n",
       "2020-03-27       63!            62        NaN        125.0\n",
       "2020-03-28       30!           111        NaN        141.0\n",
       "2020-03-29       69!            81        NaN        150.0\n",
       "2020-03-30       72!            82        NaN        154.0\n",
       "2020-03-31       73!          76..        NaN        149.0"
      ]
     },
     "execution_count": 2,
     "metadata": {},
     "output_type": "execute_result"
    }
   ],
   "source": [
    "hospitalizations.drop([\"icu_other\", \"other_total\"], axis=1, inplace=True)\n",
    "hospitalizations.head()"
   ]
  },
  {
   "cell_type": "code",
   "execution_count": 3,
   "metadata": {},
   "outputs": [
    {
     "data": {
      "text/plain": [
       "<bound method DataFrame.info of            icu_covid non_icu_covid  covid_new  covid_total\n",
       "Date                                                      \n",
       "2020-03-27       63!            62        NaN        125.0\n",
       "2020-03-28       30!           111        NaN        141.0\n",
       "2020-03-29       69!            81        NaN        150.0\n",
       "2020-03-30       72!            82        NaN        154.0\n",
       "2020-03-31       73!          76..        NaN        149.0\n",
       "...              ...           ...        ...          ...\n",
       "2020-08-04       50!           116       16.0          0.0\n",
       "2020-08-05       48!           113       29.0          0.0\n",
       "2020-08-06       50!           110       23.0          0.0\n",
       "2020-08-07       52!           109       25.0          0.0\n",
       "2020-08-08       53!           109       20.0          0.0\n",
       "\n",
       "[172 rows x 4 columns]>"
      ]
     },
     "execution_count": 3,
     "metadata": {},
     "output_type": "execute_result"
    }
   ],
   "source": [
    "hospitalizations.info"
   ]
  },
  {
   "cell_type": "code",
   "execution_count": 4,
   "metadata": {},
   "outputs": [
    {
     "data": {
      "text/plain": [
       "array(['63!', '30!', '69!', '72!', '73!', '82!', '75!', '76!', '74!',\n",
       "       '77!', '66!', '64!', '65!', '58!', '67!', '56!', '61!', '55!',\n",
       "       '50!', '45!', '43!', '36!', '37!', '35!', '33!', '29!', '25!',\n",
       "       '26!', '23!', '21!', '22!', '19!', '17!', '15!', '18!', '14!',\n",
       "       '12!', '13!', '10!', '9!', '8!', '16!', '32!', '31!', '34!', '40!',\n",
       "       '46!', '47!', '49!', '53!', '54!', '42!', '44!', '51!', '57!',\n",
       "       '52!', '48!', '38!', '39!', '41!'], dtype=object)"
      ]
     },
     "execution_count": 4,
     "metadata": {},
     "output_type": "execute_result"
    }
   ],
   "source": [
    "# \"icu_covid\" and \"non_icu_covid\" are object/str.\n",
    "# hospitalizations[\"icu_covid\"].astype(int)\n",
    "# Raises an exception == gets an error:\n",
    "# ValueError: invalid literal for int() with base 10: '63!'\n",
    "# Let's see the values:\n",
    "hospitalizations[\"icu_covid\"].unique()"
   ]
  },
  {
   "cell_type": "code",
   "execution_count": 5,
   "metadata": {},
   "outputs": [],
   "source": [
    "hospitalizations.loc[:,\"icu_covid\"] = hospitalizations.loc[:,\"icu_covid\"].apply(lambda x:int(x[:-1]))"
   ]
  },
  {
   "cell_type": "code",
   "execution_count": 6,
   "metadata": {
    "scrolled": true
   },
   "outputs": [
    {
     "data": {
      "text/plain": [
       "<bound method DataFrame.info of             icu_covid non_icu_covid  covid_new  covid_total\n",
       "Date                                                       \n",
       "2020-03-27         63            62        NaN        125.0\n",
       "2020-03-28         30           111        NaN        141.0\n",
       "2020-03-29         69            81        NaN        150.0\n",
       "2020-03-30         72            82        NaN        154.0\n",
       "2020-03-31         73          76..        NaN        149.0\n",
       "...               ...           ...        ...          ...\n",
       "2020-08-04         50           116       16.0          0.0\n",
       "2020-08-05         48           113       29.0          0.0\n",
       "2020-08-06         50           110       23.0          0.0\n",
       "2020-08-07         52           109       25.0          0.0\n",
       "2020-08-08         53           109       20.0          0.0\n",
       "\n",
       "[172 rows x 4 columns]>"
      ]
     },
     "execution_count": 6,
     "metadata": {},
     "output_type": "execute_result"
    }
   ],
   "source": [
    "hospitalizations.info"
   ]
  },
  {
   "cell_type": "code",
   "execution_count": 7,
   "metadata": {},
   "outputs": [
    {
     "data": {
      "text/plain": [
       "array(['62', '111', '81', '82', '76..', '70', '90', '89', '99', '95',\n",
       "       '108', '115', '77', '74', '71', '84', '73', '69', '67', '76', '79',\n",
       "       '64', '60', '59', '65', '55', '57', '54', '42', '40', '39', '37',\n",
       "       '35', '31', '33', '26', '22', '25', '24', '28', '21', '18', '19',\n",
       "       '16', '17', '15', '14', '13', '20', '23', '32', '45', '43', '52',\n",
       "       '46', '50', '56', '58', '68', '75', '87', '94', '105', '107',\n",
       "       '110', '116', '119', '117', '124', '114', '113', '127', '120',\n",
       "       '122', '123', '109', '118', '112', '103', '102', '101', '93', '88',\n",
       "       '97', '91', '86', '80', '78', '-73'], dtype=object)"
      ]
     },
     "execution_count": 7,
     "metadata": {},
     "output_type": "execute_result"
    }
   ],
   "source": [
    "# hospitalizations[\"non_icu_covid\"] = hospitalizations[\"non_icu_covid\"].apply(lambda x:int(x))\n",
    "# gets\"ValueError: invalid literal for int() with base 10: '76..'\n",
    "unique_non_icu_covid = hospitalizations[\"non_icu_covid\"].unique()\n",
    "unique_non_icu_covid"
   ]
  },
  {
   "cell_type": "code",
   "execution_count": 8,
   "metadata": {},
   "outputs": [
    {
     "data": {
      "text/plain": [
       "['76..', '-73']"
      ]
     },
     "execution_count": 8,
     "metadata": {},
     "output_type": "execute_result"
    }
   ],
   "source": [
    "weird_values = [n for n in unique_non_icu_covid if not n.isdigit()]\n",
    "weird_values"
   ]
  },
  {
   "cell_type": "code",
   "execution_count": 9,
   "metadata": {},
   "outputs": [
    {
     "data": {
      "text/html": [
       "<div>\n",
       "<style scoped>\n",
       "    .dataframe tbody tr th:only-of-type {\n",
       "        vertical-align: middle;\n",
       "    }\n",
       "\n",
       "    .dataframe tbody tr th {\n",
       "        vertical-align: top;\n",
       "    }\n",
       "\n",
       "    .dataframe thead th {\n",
       "        text-align: right;\n",
       "    }\n",
       "</style>\n",
       "<table border=\"1\" class=\"dataframe\">\n",
       "  <thead>\n",
       "    <tr style=\"text-align: right;\">\n",
       "      <th></th>\n",
       "      <th>icu_covid</th>\n",
       "      <th>non_icu_covid</th>\n",
       "      <th>covid_new</th>\n",
       "      <th>covid_total</th>\n",
       "    </tr>\n",
       "    <tr>\n",
       "      <th>Date</th>\n",
       "      <th></th>\n",
       "      <th></th>\n",
       "      <th></th>\n",
       "      <th></th>\n",
       "    </tr>\n",
       "  </thead>\n",
       "  <tbody>\n",
       "    <tr>\n",
       "      <th>2020-03-31</th>\n",
       "      <td>73</td>\n",
       "      <td>76..</td>\n",
       "      <td>NaN</td>\n",
       "      <td>149.0</td>\n",
       "    </tr>\n",
       "    <tr>\n",
       "      <th>2020-09-03</th>\n",
       "      <td>45</td>\n",
       "      <td>-73</td>\n",
       "      <td>10.0</td>\n",
       "      <td>122.0</td>\n",
       "    </tr>\n",
       "  </tbody>\n",
       "</table>\n",
       "</div>"
      ],
      "text/plain": [
       "            icu_covid non_icu_covid  covid_new  covid_total\n",
       "Date                                                       \n",
       "2020-03-31         73          76..        NaN        149.0\n",
       "2020-09-03         45           -73       10.0        122.0"
      ]
     },
     "execution_count": 9,
     "metadata": {},
     "output_type": "execute_result"
    }
   ],
   "source": [
    "hospitalizations[hospitalizations[\"non_icu_covid\"].isin(weird_values)].sort_index()"
   ]
  },
  {
   "cell_type": "code",
   "execution_count": 10,
   "metadata": {},
   "outputs": [],
   "source": [
    "hospitalizations.loc[\"2020-03-31\", \"non_icu_covid\"] = \"76\"\n",
    "hospitalizations.loc[\"2020-09-03\", \"non_icu_covid\"] = \"73\"\n",
    "hospitalizations.loc[:,\"non_icu_covid\"] = hospitalizations.loc[:,\"non_icu_covid\"].apply(lambda x:int(x))"
   ]
  },
  {
   "cell_type": "code",
   "execution_count": 11,
   "metadata": {
    "scrolled": true
   },
   "outputs": [
    {
     "data": {
      "text/plain": [
       "<bound method DataFrame.info of             icu_covid  non_icu_covid  covid_new  covid_total\n",
       "Date                                                        \n",
       "2020-03-27         63             62        NaN        125.0\n",
       "2020-03-28         30            111        NaN        141.0\n",
       "2020-03-29         69             81        NaN        150.0\n",
       "2020-03-30         72             82        NaN        154.0\n",
       "2020-03-31         73             76        NaN        149.0\n",
       "...               ...            ...        ...          ...\n",
       "2020-08-04         50            116       16.0          0.0\n",
       "2020-08-05         48            113       29.0          0.0\n",
       "2020-08-06         50            110       23.0          0.0\n",
       "2020-08-07         52            109       25.0          0.0\n",
       "2020-08-08         53            109       20.0          0.0\n",
       "\n",
       "[172 rows x 4 columns]>"
      ]
     },
     "execution_count": 11,
     "metadata": {},
     "output_type": "execute_result"
    }
   ],
   "source": [
    "hospitalizations.info"
   ]
  },
  {
   "cell_type": "code",
   "execution_count": 12,
   "metadata": {},
   "outputs": [
    {
     "data": {
      "text/html": [
       "<div>\n",
       "<style scoped>\n",
       "    .dataframe tbody tr th:only-of-type {\n",
       "        vertical-align: middle;\n",
       "    }\n",
       "\n",
       "    .dataframe tbody tr th {\n",
       "        vertical-align: top;\n",
       "    }\n",
       "\n",
       "    .dataframe thead th {\n",
       "        text-align: right;\n",
       "    }\n",
       "</style>\n",
       "<table border=\"1\" class=\"dataframe\">\n",
       "  <thead>\n",
       "    <tr style=\"text-align: right;\">\n",
       "      <th></th>\n",
       "      <th>icu_covid</th>\n",
       "      <th>non_icu_covid</th>\n",
       "      <th>covid_new</th>\n",
       "      <th>covid_total</th>\n",
       "    </tr>\n",
       "    <tr>\n",
       "      <th>Date</th>\n",
       "      <th></th>\n",
       "      <th></th>\n",
       "      <th></th>\n",
       "      <th></th>\n",
       "    </tr>\n",
       "  </thead>\n",
       "  <tbody>\n",
       "    <tr>\n",
       "      <th>2020-07-30</th>\n",
       "      <td>45</td>\n",
       "      <td>124</td>\n",
       "      <td>25.0</td>\n",
       "      <td>178.0</td>\n",
       "    </tr>\n",
       "    <tr>\n",
       "      <th>2020-07-30</th>\n",
       "      <td>45</td>\n",
       "      <td>124</td>\n",
       "      <td>25.0</td>\n",
       "      <td>0.0</td>\n",
       "    </tr>\n",
       "    <tr>\n",
       "      <th>2020-07-31</th>\n",
       "      <td>51</td>\n",
       "      <td>122</td>\n",
       "      <td>27.0</td>\n",
       "      <td>182.0</td>\n",
       "    </tr>\n",
       "    <tr>\n",
       "      <th>2020-07-31</th>\n",
       "      <td>51</td>\n",
       "      <td>122</td>\n",
       "      <td>27.0</td>\n",
       "      <td>0.0</td>\n",
       "    </tr>\n",
       "    <tr>\n",
       "      <th>2020-08-01</th>\n",
       "      <td>51</td>\n",
       "      <td>123</td>\n",
       "      <td>18.0</td>\n",
       "      <td>183.0</td>\n",
       "    </tr>\n",
       "    <tr>\n",
       "      <th>2020-08-01</th>\n",
       "      <td>51</td>\n",
       "      <td>123</td>\n",
       "      <td>18.0</td>\n",
       "      <td>0.0</td>\n",
       "    </tr>\n",
       "    <tr>\n",
       "      <th>2020-08-02</th>\n",
       "      <td>51</td>\n",
       "      <td>122</td>\n",
       "      <td>21.0</td>\n",
       "      <td>181.0</td>\n",
       "    </tr>\n",
       "    <tr>\n",
       "      <th>2020-08-02</th>\n",
       "      <td>51</td>\n",
       "      <td>122</td>\n",
       "      <td>21.0</td>\n",
       "      <td>0.0</td>\n",
       "    </tr>\n",
       "    <tr>\n",
       "      <th>2020-08-03</th>\n",
       "      <td>49</td>\n",
       "      <td>114</td>\n",
       "      <td>10.0</td>\n",
       "      <td>169.0</td>\n",
       "    </tr>\n",
       "    <tr>\n",
       "      <th>2020-08-03</th>\n",
       "      <td>49</td>\n",
       "      <td>114</td>\n",
       "      <td>10.0</td>\n",
       "      <td>0.0</td>\n",
       "    </tr>\n",
       "    <tr>\n",
       "      <th>2020-08-04</th>\n",
       "      <td>50</td>\n",
       "      <td>116</td>\n",
       "      <td>16.0</td>\n",
       "      <td>172.0</td>\n",
       "    </tr>\n",
       "    <tr>\n",
       "      <th>2020-08-04</th>\n",
       "      <td>50</td>\n",
       "      <td>116</td>\n",
       "      <td>16.0</td>\n",
       "      <td>0.0</td>\n",
       "    </tr>\n",
       "    <tr>\n",
       "      <th>2020-08-05</th>\n",
       "      <td>48</td>\n",
       "      <td>113</td>\n",
       "      <td>29.0</td>\n",
       "      <td>169.0</td>\n",
       "    </tr>\n",
       "    <tr>\n",
       "      <th>2020-08-05</th>\n",
       "      <td>48</td>\n",
       "      <td>113</td>\n",
       "      <td>29.0</td>\n",
       "      <td>0.0</td>\n",
       "    </tr>\n",
       "    <tr>\n",
       "      <th>2020-08-06</th>\n",
       "      <td>50</td>\n",
       "      <td>110</td>\n",
       "      <td>23.0</td>\n",
       "      <td>0.0</td>\n",
       "    </tr>\n",
       "    <tr>\n",
       "      <th>2020-08-06</th>\n",
       "      <td>50</td>\n",
       "      <td>110</td>\n",
       "      <td>23.0</td>\n",
       "      <td>169.0</td>\n",
       "    </tr>\n",
       "    <tr>\n",
       "      <th>2020-08-07</th>\n",
       "      <td>52</td>\n",
       "      <td>109</td>\n",
       "      <td>25.0</td>\n",
       "      <td>0.0</td>\n",
       "    </tr>\n",
       "    <tr>\n",
       "      <th>2020-08-07</th>\n",
       "      <td>52</td>\n",
       "      <td>109</td>\n",
       "      <td>25.0</td>\n",
       "      <td>170.0</td>\n",
       "    </tr>\n",
       "    <tr>\n",
       "      <th>2020-08-08</th>\n",
       "      <td>53</td>\n",
       "      <td>109</td>\n",
       "      <td>20.0</td>\n",
       "      <td>172.0</td>\n",
       "    </tr>\n",
       "    <tr>\n",
       "      <th>2020-08-08</th>\n",
       "      <td>53</td>\n",
       "      <td>109</td>\n",
       "      <td>20.0</td>\n",
       "      <td>0.0</td>\n",
       "    </tr>\n",
       "  </tbody>\n",
       "</table>\n",
       "</div>"
      ],
      "text/plain": [
       "            icu_covid  non_icu_covid  covid_new  covid_total\n",
       "Date                                                        \n",
       "2020-07-30         45            124       25.0        178.0\n",
       "2020-07-30         45            124       25.0          0.0\n",
       "2020-07-31         51            122       27.0        182.0\n",
       "2020-07-31         51            122       27.0          0.0\n",
       "2020-08-01         51            123       18.0        183.0\n",
       "2020-08-01         51            123       18.0          0.0\n",
       "2020-08-02         51            122       21.0        181.0\n",
       "2020-08-02         51            122       21.0          0.0\n",
       "2020-08-03         49            114       10.0        169.0\n",
       "2020-08-03         49            114       10.0          0.0\n",
       "2020-08-04         50            116       16.0        172.0\n",
       "2020-08-04         50            116       16.0          0.0\n",
       "2020-08-05         48            113       29.0        169.0\n",
       "2020-08-05         48            113       29.0          0.0\n",
       "2020-08-06         50            110       23.0          0.0\n",
       "2020-08-06         50            110       23.0        169.0\n",
       "2020-08-07         52            109       25.0          0.0\n",
       "2020-08-07         52            109       25.0        170.0\n",
       "2020-08-08         53            109       20.0        172.0\n",
       "2020-08-08         53            109       20.0          0.0"
      ]
     },
     "execution_count": 12,
     "metadata": {},
     "output_type": "execute_result"
    }
   ],
   "source": [
    "hospitalizations[hospitalizations.index.duplicated(keep=False)==True].sort_index()"
   ]
  },
  {
   "cell_type": "code",
   "execution_count": 13,
   "metadata": {},
   "outputs": [
    {
     "data": {
      "text/html": [
       "<div>\n",
       "<style scoped>\n",
       "    .dataframe tbody tr th:only-of-type {\n",
       "        vertical-align: middle;\n",
       "    }\n",
       "\n",
       "    .dataframe tbody tr th {\n",
       "        vertical-align: top;\n",
       "    }\n",
       "\n",
       "    .dataframe thead th {\n",
       "        text-align: right;\n",
       "    }\n",
       "</style>\n",
       "<table border=\"1\" class=\"dataframe\">\n",
       "  <thead>\n",
       "    <tr style=\"text-align: right;\">\n",
       "      <th></th>\n",
       "      <th>icu_covid</th>\n",
       "      <th>non_icu_covid</th>\n",
       "      <th>covid_new</th>\n",
       "      <th>covid_total</th>\n",
       "    </tr>\n",
       "    <tr>\n",
       "      <th>Date</th>\n",
       "      <th></th>\n",
       "      <th></th>\n",
       "      <th></th>\n",
       "      <th></th>\n",
       "    </tr>\n",
       "  </thead>\n",
       "  <tbody>\n",
       "    <tr>\n",
       "      <th>2020-03-27</th>\n",
       "      <td>63</td>\n",
       "      <td>62</td>\n",
       "      <td>NaN</td>\n",
       "      <td>125.0</td>\n",
       "    </tr>\n",
       "    <tr>\n",
       "      <th>2020-03-28</th>\n",
       "      <td>30</td>\n",
       "      <td>111</td>\n",
       "      <td>NaN</td>\n",
       "      <td>141.0</td>\n",
       "    </tr>\n",
       "    <tr>\n",
       "      <th>2020-03-29</th>\n",
       "      <td>69</td>\n",
       "      <td>81</td>\n",
       "      <td>NaN</td>\n",
       "      <td>150.0</td>\n",
       "    </tr>\n",
       "    <tr>\n",
       "      <th>2020-03-30</th>\n",
       "      <td>72</td>\n",
       "      <td>82</td>\n",
       "      <td>NaN</td>\n",
       "      <td>154.0</td>\n",
       "    </tr>\n",
       "    <tr>\n",
       "      <th>2020-03-31</th>\n",
       "      <td>73</td>\n",
       "      <td>76</td>\n",
       "      <td>NaN</td>\n",
       "      <td>149.0</td>\n",
       "    </tr>\n",
       "    <tr>\n",
       "      <th>...</th>\n",
       "      <td>...</td>\n",
       "      <td>...</td>\n",
       "      <td>...</td>\n",
       "      <td>...</td>\n",
       "    </tr>\n",
       "    <tr>\n",
       "      <th>2020-08-31</th>\n",
       "      <td>43</td>\n",
       "      <td>86</td>\n",
       "      <td>9.0</td>\n",
       "      <td>131.0</td>\n",
       "    </tr>\n",
       "    <tr>\n",
       "      <th>2020-09-01</th>\n",
       "      <td>46</td>\n",
       "      <td>80</td>\n",
       "      <td>15.0</td>\n",
       "      <td>128.0</td>\n",
       "    </tr>\n",
       "    <tr>\n",
       "      <th>2020-09-02</th>\n",
       "      <td>47</td>\n",
       "      <td>78</td>\n",
       "      <td>15.0</td>\n",
       "      <td>128.0</td>\n",
       "    </tr>\n",
       "    <tr>\n",
       "      <th>2020-09-03</th>\n",
       "      <td>45</td>\n",
       "      <td>73</td>\n",
       "      <td>10.0</td>\n",
       "      <td>122.0</td>\n",
       "    </tr>\n",
       "    <tr>\n",
       "      <th>2020-09-04</th>\n",
       "      <td>41</td>\n",
       "      <td>75</td>\n",
       "      <td>22.0</td>\n",
       "      <td>120.0</td>\n",
       "    </tr>\n",
       "  </tbody>\n",
       "</table>\n",
       "<p>172 rows × 4 columns</p>\n",
       "</div>"
      ],
      "text/plain": [
       "            icu_covid  non_icu_covid  covid_new  covid_total\n",
       "Date                                                        \n",
       "2020-03-27         63             62        NaN        125.0\n",
       "2020-03-28         30            111        NaN        141.0\n",
       "2020-03-29         69             81        NaN        150.0\n",
       "2020-03-30         72             82        NaN        154.0\n",
       "2020-03-31         73             76        NaN        149.0\n",
       "...               ...            ...        ...          ...\n",
       "2020-08-31         43             86        9.0        131.0\n",
       "2020-09-01         46             80       15.0        128.0\n",
       "2020-09-02         47             78       15.0        128.0\n",
       "2020-09-03         45             73       10.0        122.0\n",
       "2020-09-04         41             75       22.0        120.0\n",
       "\n",
       "[172 rows x 4 columns]"
      ]
     },
     "execution_count": 13,
     "metadata": {},
     "output_type": "execute_result"
    }
   ],
   "source": [
    "hospitalizations.sort_values(\"Date\")"
   ]
  },
  {
   "cell_type": "code",
   "execution_count": 14,
   "metadata": {},
   "outputs": [],
   "source": [
    "# sorting by \"covid_total\" and for dropping all dups except the first.\n",
    "hospitalizations.sort_values([\"Date\",\"covid_total\"], ascending=False, inplace=True)"
   ]
  },
  {
   "cell_type": "markdown",
   "metadata": {},
   "source": [
    "We want to see what is duplicated in [\"Date\", \"icu_covid\", \"non_icu_covid\", \"covid_new\"] but the duplicated method does not allow the index in the labels."
   ]
  },
  {
   "cell_type": "code",
   "execution_count": 15,
   "metadata": {},
   "outputs": [],
   "source": [
    "hospitalizations.loc[:,\"date\"] = hospitalizations.index"
   ]
  },
  {
   "cell_type": "code",
   "execution_count": 16,
   "metadata": {},
   "outputs": [
    {
     "data": {
      "text/html": [
       "<div>\n",
       "<style scoped>\n",
       "    .dataframe tbody tr th:only-of-type {\n",
       "        vertical-align: middle;\n",
       "    }\n",
       "\n",
       "    .dataframe tbody tr th {\n",
       "        vertical-align: top;\n",
       "    }\n",
       "\n",
       "    .dataframe thead th {\n",
       "        text-align: right;\n",
       "    }\n",
       "</style>\n",
       "<table border=\"1\" class=\"dataframe\">\n",
       "  <thead>\n",
       "    <tr style=\"text-align: right;\">\n",
       "      <th></th>\n",
       "      <th>icu_covid</th>\n",
       "      <th>non_icu_covid</th>\n",
       "      <th>covid_new</th>\n",
       "      <th>covid_total</th>\n",
       "      <th>date</th>\n",
       "    </tr>\n",
       "    <tr>\n",
       "      <th>Date</th>\n",
       "      <th></th>\n",
       "      <th></th>\n",
       "      <th></th>\n",
       "      <th></th>\n",
       "      <th></th>\n",
       "    </tr>\n",
       "  </thead>\n",
       "  <tbody>\n",
       "    <tr>\n",
       "      <th>2020-09-04</th>\n",
       "      <td>41</td>\n",
       "      <td>75</td>\n",
       "      <td>22.0</td>\n",
       "      <td>120.0</td>\n",
       "      <td>2020-09-04</td>\n",
       "    </tr>\n",
       "    <tr>\n",
       "      <th>2020-09-03</th>\n",
       "      <td>45</td>\n",
       "      <td>73</td>\n",
       "      <td>10.0</td>\n",
       "      <td>122.0</td>\n",
       "      <td>2020-09-03</td>\n",
       "    </tr>\n",
       "    <tr>\n",
       "      <th>2020-09-02</th>\n",
       "      <td>47</td>\n",
       "      <td>78</td>\n",
       "      <td>15.0</td>\n",
       "      <td>128.0</td>\n",
       "      <td>2020-09-02</td>\n",
       "    </tr>\n",
       "    <tr>\n",
       "      <th>2020-09-01</th>\n",
       "      <td>46</td>\n",
       "      <td>80</td>\n",
       "      <td>15.0</td>\n",
       "      <td>128.0</td>\n",
       "      <td>2020-09-01</td>\n",
       "    </tr>\n",
       "    <tr>\n",
       "      <th>2020-08-31</th>\n",
       "      <td>43</td>\n",
       "      <td>86</td>\n",
       "      <td>9.0</td>\n",
       "      <td>131.0</td>\n",
       "      <td>2020-08-31</td>\n",
       "    </tr>\n",
       "  </tbody>\n",
       "</table>\n",
       "</div>"
      ],
      "text/plain": [
       "            icu_covid  non_icu_covid  covid_new  covid_total        date\n",
       "Date                                                                    \n",
       "2020-09-04         41             75       22.0        120.0  2020-09-04\n",
       "2020-09-03         45             73       10.0        122.0  2020-09-03\n",
       "2020-09-02         47             78       15.0        128.0  2020-09-02\n",
       "2020-09-01         46             80       15.0        128.0  2020-09-01\n",
       "2020-08-31         43             86        9.0        131.0  2020-08-31"
      ]
     },
     "execution_count": 16,
     "metadata": {},
     "output_type": "execute_result"
    }
   ],
   "source": [
    "hospitalizations.head()"
   ]
  },
  {
   "cell_type": "code",
   "execution_count": 17,
   "metadata": {},
   "outputs": [],
   "source": [
    "hospitalizations.drop_duplicates([\"icu_covid\", \"non_icu_covid\",\n",
    "                                                    \"covid_new\", \"date\"], inplace=True)\n",
    "hospitalizations.drop(\"date\", axis=1, inplace=True)"
   ]
  },
  {
   "cell_type": "code",
   "execution_count": 18,
   "metadata": {},
   "outputs": [
    {
     "data": {
      "text/html": [
       "<div>\n",
       "<style scoped>\n",
       "    .dataframe tbody tr th:only-of-type {\n",
       "        vertical-align: middle;\n",
       "    }\n",
       "\n",
       "    .dataframe tbody tr th {\n",
       "        vertical-align: top;\n",
       "    }\n",
       "\n",
       "    .dataframe thead th {\n",
       "        text-align: right;\n",
       "    }\n",
       "</style>\n",
       "<table border=\"1\" class=\"dataframe\">\n",
       "  <thead>\n",
       "    <tr style=\"text-align: right;\">\n",
       "      <th></th>\n",
       "      <th>icu_covid</th>\n",
       "      <th>non_icu_covid</th>\n",
       "      <th>covid_new</th>\n",
       "      <th>covid_total</th>\n",
       "    </tr>\n",
       "    <tr>\n",
       "      <th>Date</th>\n",
       "      <th></th>\n",
       "      <th></th>\n",
       "      <th></th>\n",
       "      <th></th>\n",
       "    </tr>\n",
       "  </thead>\n",
       "  <tbody>\n",
       "    <tr>\n",
       "      <th>2020-08-08</th>\n",
       "      <td>53</td>\n",
       "      <td>109</td>\n",
       "      <td>20.0</td>\n",
       "      <td>172.0</td>\n",
       "    </tr>\n",
       "    <tr>\n",
       "      <th>2020-08-07</th>\n",
       "      <td>52</td>\n",
       "      <td>109</td>\n",
       "      <td>25.0</td>\n",
       "      <td>170.0</td>\n",
       "    </tr>\n",
       "    <tr>\n",
       "      <th>2020-08-06</th>\n",
       "      <td>50</td>\n",
       "      <td>110</td>\n",
       "      <td>23.0</td>\n",
       "      <td>169.0</td>\n",
       "    </tr>\n",
       "    <tr>\n",
       "      <th>2020-08-05</th>\n",
       "      <td>48</td>\n",
       "      <td>113</td>\n",
       "      <td>29.0</td>\n",
       "      <td>169.0</td>\n",
       "    </tr>\n",
       "    <tr>\n",
       "      <th>2020-08-04</th>\n",
       "      <td>50</td>\n",
       "      <td>116</td>\n",
       "      <td>16.0</td>\n",
       "      <td>172.0</td>\n",
       "    </tr>\n",
       "    <tr>\n",
       "      <th>2020-08-03</th>\n",
       "      <td>49</td>\n",
       "      <td>114</td>\n",
       "      <td>10.0</td>\n",
       "      <td>169.0</td>\n",
       "    </tr>\n",
       "    <tr>\n",
       "      <th>2020-08-02</th>\n",
       "      <td>51</td>\n",
       "      <td>122</td>\n",
       "      <td>21.0</td>\n",
       "      <td>181.0</td>\n",
       "    </tr>\n",
       "    <tr>\n",
       "      <th>2020-08-01</th>\n",
       "      <td>51</td>\n",
       "      <td>123</td>\n",
       "      <td>18.0</td>\n",
       "      <td>183.0</td>\n",
       "    </tr>\n",
       "    <tr>\n",
       "      <th>2020-07-31</th>\n",
       "      <td>51</td>\n",
       "      <td>122</td>\n",
       "      <td>27.0</td>\n",
       "      <td>182.0</td>\n",
       "    </tr>\n",
       "    <tr>\n",
       "      <th>2020-07-30</th>\n",
       "      <td>45</td>\n",
       "      <td>124</td>\n",
       "      <td>25.0</td>\n",
       "      <td>178.0</td>\n",
       "    </tr>\n",
       "  </tbody>\n",
       "</table>\n",
       "</div>"
      ],
      "text/plain": [
       "            icu_covid  non_icu_covid  covid_new  covid_total\n",
       "Date                                                        \n",
       "2020-08-08         53            109       20.0        172.0\n",
       "2020-08-07         52            109       25.0        170.0\n",
       "2020-08-06         50            110       23.0        169.0\n",
       "2020-08-05         48            113       29.0        169.0\n",
       "2020-08-04         50            116       16.0        172.0\n",
       "2020-08-03         49            114       10.0        169.0\n",
       "2020-08-02         51            122       21.0        181.0\n",
       "2020-08-01         51            123       18.0        183.0\n",
       "2020-07-31         51            122       27.0        182.0\n",
       "2020-07-30         45            124       25.0        178.0"
      ]
     },
     "execution_count": 18,
     "metadata": {},
     "output_type": "execute_result"
    }
   ],
   "source": [
    "hospitalizations.loc[\"2020-08-08\":\"2020-07-30\"]"
   ]
  },
  {
   "cell_type": "code",
   "execution_count": 19,
   "metadata": {
    "scrolled": true
   },
   "outputs": [
    {
     "data": {
      "text/html": [
       "<div>\n",
       "<style scoped>\n",
       "    .dataframe tbody tr th:only-of-type {\n",
       "        vertical-align: middle;\n",
       "    }\n",
       "\n",
       "    .dataframe tbody tr th {\n",
       "        vertical-align: top;\n",
       "    }\n",
       "\n",
       "    .dataframe thead th {\n",
       "        text-align: right;\n",
       "    }\n",
       "</style>\n",
       "<table border=\"1\" class=\"dataframe\">\n",
       "  <thead>\n",
       "    <tr style=\"text-align: right;\">\n",
       "      <th></th>\n",
       "      <th>icu_covid</th>\n",
       "      <th>non_icu_covid</th>\n",
       "      <th>covid_new</th>\n",
       "      <th>covid_total</th>\n",
       "    </tr>\n",
       "  </thead>\n",
       "  <tbody>\n",
       "    <tr>\n",
       "      <th>count</th>\n",
       "      <td>162.000000</td>\n",
       "      <td>162.000000</td>\n",
       "      <td>142.000000</td>\n",
       "      <td>151.000000</td>\n",
       "    </tr>\n",
       "    <tr>\n",
       "      <th>mean</th>\n",
       "      <td>41.012346</td>\n",
       "      <td>66.932099</td>\n",
       "      <td>16.014085</td>\n",
       "      <td>115.205298</td>\n",
       "    </tr>\n",
       "    <tr>\n",
       "      <th>std</th>\n",
       "      <td>18.861044</td>\n",
       "      <td>36.104081</td>\n",
       "      <td>10.753845</td>\n",
       "      <td>51.459281</td>\n",
       "    </tr>\n",
       "    <tr>\n",
       "      <th>min</th>\n",
       "      <td>8.000000</td>\n",
       "      <td>13.000000</td>\n",
       "      <td>0.000000</td>\n",
       "      <td>24.000000</td>\n",
       "    </tr>\n",
       "    <tr>\n",
       "      <th>25%</th>\n",
       "      <td>23.500000</td>\n",
       "      <td>28.750000</td>\n",
       "      <td>6.000000</td>\n",
       "      <td>68.000000</td>\n",
       "    </tr>\n",
       "    <tr>\n",
       "      <th>50%</th>\n",
       "      <td>43.500000</td>\n",
       "      <td>69.000000</td>\n",
       "      <td>15.000000</td>\n",
       "      <td>131.000000</td>\n",
       "    </tr>\n",
       "    <tr>\n",
       "      <th>75%</th>\n",
       "      <td>52.750000</td>\n",
       "      <td>102.750000</td>\n",
       "      <td>23.000000</td>\n",
       "      <td>157.500000</td>\n",
       "    </tr>\n",
       "    <tr>\n",
       "      <th>max</th>\n",
       "      <td>82.000000</td>\n",
       "      <td>127.000000</td>\n",
       "      <td>56.000000</td>\n",
       "      <td>189.000000</td>\n",
       "    </tr>\n",
       "  </tbody>\n",
       "</table>\n",
       "</div>"
      ],
      "text/plain": [
       "        icu_covid  non_icu_covid   covid_new  covid_total\n",
       "count  162.000000     162.000000  142.000000   151.000000\n",
       "mean    41.012346      66.932099   16.014085   115.205298\n",
       "std     18.861044      36.104081   10.753845    51.459281\n",
       "min      8.000000      13.000000    0.000000    24.000000\n",
       "25%     23.500000      28.750000    6.000000    68.000000\n",
       "50%     43.500000      69.000000   15.000000   131.000000\n",
       "75%     52.750000     102.750000   23.000000   157.500000\n",
       "max     82.000000     127.000000   56.000000   189.000000"
      ]
     },
     "execution_count": 19,
     "metadata": {},
     "output_type": "execute_result"
    }
   ],
   "source": [
    "hospitalizations.describe()"
   ]
  },
  {
   "cell_type": "code",
   "execution_count": 20,
   "metadata": {},
   "outputs": [
    {
     "data": {
      "text/html": [
       "<div>\n",
       "<style scoped>\n",
       "    .dataframe tbody tr th:only-of-type {\n",
       "        vertical-align: middle;\n",
       "    }\n",
       "\n",
       "    .dataframe tbody tr th {\n",
       "        vertical-align: top;\n",
       "    }\n",
       "\n",
       "    .dataframe thead th {\n",
       "        text-align: right;\n",
       "    }\n",
       "</style>\n",
       "<table border=\"1\" class=\"dataframe\">\n",
       "  <thead>\n",
       "    <tr style=\"text-align: right;\">\n",
       "      <th></th>\n",
       "      <th>icu_covid</th>\n",
       "      <th>icu_pui</th>\n",
       "      <th>icu_other</th>\n",
       "      <th>icu_available</th>\n",
       "      <th>non_icu_covid</th>\n",
       "      <th>non_icu_pui</th>\n",
       "      <th>non_icu_other</th>\n",
       "      <th>non_icu_available</th>\n",
       "      <th>vents_pts</th>\n",
       "      <th>vents_available</th>\n",
       "      <th>...</th>\n",
       "      <th>covid_pui_pct_7davg</th>\n",
       "      <th>other_total</th>\n",
       "      <th>available_total</th>\n",
       "      <th>icu_covid_pct_7davg</th>\n",
       "      <th>icu_covid_pui_pct_7davg</th>\n",
       "      <th>non_icu_covid_pct_7davg</th>\n",
       "      <th>non_icu_covid_pui_pct_7davg</th>\n",
       "      <th>cap_pct_7davg_total</th>\n",
       "      <th>icu_cap_pct_7davg</th>\n",
       "      <th>non_icu_cap_pct_7davg</th>\n",
       "    </tr>\n",
       "    <tr>\n",
       "      <th>Date</th>\n",
       "      <th></th>\n",
       "      <th></th>\n",
       "      <th></th>\n",
       "      <th></th>\n",
       "      <th></th>\n",
       "      <th></th>\n",
       "      <th></th>\n",
       "      <th></th>\n",
       "      <th></th>\n",
       "      <th></th>\n",
       "      <th></th>\n",
       "      <th></th>\n",
       "      <th></th>\n",
       "      <th></th>\n",
       "      <th></th>\n",
       "      <th></th>\n",
       "      <th></th>\n",
       "      <th></th>\n",
       "      <th></th>\n",
       "      <th></th>\n",
       "      <th></th>\n",
       "    </tr>\n",
       "  </thead>\n",
       "  <tbody>\n",
       "    <tr>\n",
       "      <th>2020/03/27</th>\n",
       "      <td>63</td>\n",
       "      <td>22</td>\n",
       "      <td>NaN</td>\n",
       "      <td>66</td>\n",
       "      <td>62</td>\n",
       "      <td>52</td>\n",
       "      <td>NaN</td>\n",
       "      <td>293</td>\n",
       "      <td>95</td>\n",
       "      <td>NaN</td>\n",
       "      <td>...</td>\n",
       "      <td>NaN</td>\n",
       "      <td>0</td>\n",
       "      <td>359</td>\n",
       "      <td>NaN</td>\n",
       "      <td>NaN</td>\n",
       "      <td>NaN</td>\n",
       "      <td>NaN</td>\n",
       "      <td>NaN</td>\n",
       "      <td>NaN</td>\n",
       "      <td>NaN</td>\n",
       "    </tr>\n",
       "    <tr>\n",
       "      <th>2020/03/28</th>\n",
       "      <td>30</td>\n",
       "      <td>66</td>\n",
       "      <td>NaN</td>\n",
       "      <td>87</td>\n",
       "      <td>111</td>\n",
       "      <td>28</td>\n",
       "      <td>NaN</td>\n",
       "      <td>403</td>\n",
       "      <td>90</td>\n",
       "      <td>NaN</td>\n",
       "      <td>...</td>\n",
       "      <td>NaN</td>\n",
       "      <td>0</td>\n",
       "      <td>490</td>\n",
       "      <td>NaN</td>\n",
       "      <td>NaN</td>\n",
       "      <td>NaN</td>\n",
       "      <td>NaN</td>\n",
       "      <td>NaN</td>\n",
       "      <td>NaN</td>\n",
       "      <td>NaN</td>\n",
       "    </tr>\n",
       "    <tr>\n",
       "      <th>2020/03/29</th>\n",
       "      <td>69</td>\n",
       "      <td>13</td>\n",
       "      <td>NaN</td>\n",
       "      <td>91</td>\n",
       "      <td>81</td>\n",
       "      <td>49</td>\n",
       "      <td>NaN</td>\n",
       "      <td>549</td>\n",
       "      <td>115</td>\n",
       "      <td>NaN</td>\n",
       "      <td>...</td>\n",
       "      <td>NaN</td>\n",
       "      <td>0</td>\n",
       "      <td>640</td>\n",
       "      <td>NaN</td>\n",
       "      <td>NaN</td>\n",
       "      <td>NaN</td>\n",
       "      <td>NaN</td>\n",
       "      <td>NaN</td>\n",
       "      <td>NaN</td>\n",
       "      <td>NaN</td>\n",
       "    </tr>\n",
       "    <tr>\n",
       "      <th>2020/03/30</th>\n",
       "      <td>72</td>\n",
       "      <td>34</td>\n",
       "      <td>NaN</td>\n",
       "      <td>68</td>\n",
       "      <td>82</td>\n",
       "      <td>74</td>\n",
       "      <td>NaN</td>\n",
       "      <td>579</td>\n",
       "      <td>110</td>\n",
       "      <td>NaN</td>\n",
       "      <td>...</td>\n",
       "      <td>NaN</td>\n",
       "      <td>0</td>\n",
       "      <td>647</td>\n",
       "      <td>NaN</td>\n",
       "      <td>NaN</td>\n",
       "      <td>NaN</td>\n",
       "      <td>NaN</td>\n",
       "      <td>NaN</td>\n",
       "      <td>NaN</td>\n",
       "      <td>NaN</td>\n",
       "    </tr>\n",
       "    <tr>\n",
       "      <th>2020/03/31</th>\n",
       "      <td>73</td>\n",
       "      <td>19</td>\n",
       "      <td>NaN</td>\n",
       "      <td>73</td>\n",
       "      <td>76</td>\n",
       "      <td>68</td>\n",
       "      <td>NaN</td>\n",
       "      <td>630</td>\n",
       "      <td>107</td>\n",
       "      <td>NaN</td>\n",
       "      <td>...</td>\n",
       "      <td>NaN</td>\n",
       "      <td>0</td>\n",
       "      <td>703</td>\n",
       "      <td>NaN</td>\n",
       "      <td>NaN</td>\n",
       "      <td>NaN</td>\n",
       "      <td>NaN</td>\n",
       "      <td>NaN</td>\n",
       "      <td>NaN</td>\n",
       "      <td>NaN</td>\n",
       "    </tr>\n",
       "  </tbody>\n",
       "</table>\n",
       "<p>5 rows × 26 columns</p>\n",
       "</div>"
      ],
      "text/plain": [
       "            icu_covid  icu_pui  icu_other  icu_available  non_icu_covid  \\\n",
       "Date                                                                      \n",
       "2020/03/27         63       22        NaN             66             62   \n",
       "2020/03/28         30       66        NaN             87            111   \n",
       "2020/03/29         69       13        NaN             91             81   \n",
       "2020/03/30         72       34        NaN             68             82   \n",
       "2020/03/31         73       19        NaN             73             76   \n",
       "\n",
       "            non_icu_pui  non_icu_other  non_icu_available  vents_pts  \\\n",
       "Date                                                                   \n",
       "2020/03/27           52            NaN                293         95   \n",
       "2020/03/28           28            NaN                403         90   \n",
       "2020/03/29           49            NaN                549        115   \n",
       "2020/03/30           74            NaN                579        110   \n",
       "2020/03/31           68            NaN                630        107   \n",
       "\n",
       "            vents_available  ...  covid_pui_pct_7davg  other_total  \\\n",
       "Date                         ...                                     \n",
       "2020/03/27              NaN  ...                  NaN            0   \n",
       "2020/03/28              NaN  ...                  NaN            0   \n",
       "2020/03/29              NaN  ...                  NaN            0   \n",
       "2020/03/30              NaN  ...                  NaN            0   \n",
       "2020/03/31              NaN  ...                  NaN            0   \n",
       "\n",
       "            available_total  icu_covid_pct_7davg  icu_covid_pui_pct_7davg  \\\n",
       "Date                                                                        \n",
       "2020/03/27              359                  NaN                      NaN   \n",
       "2020/03/28              490                  NaN                      NaN   \n",
       "2020/03/29              640                  NaN                      NaN   \n",
       "2020/03/30              647                  NaN                      NaN   \n",
       "2020/03/31              703                  NaN                      NaN   \n",
       "\n",
       "            non_icu_covid_pct_7davg  non_icu_covid_pui_pct_7davg  \\\n",
       "Date                                                               \n",
       "2020/03/27                      NaN                          NaN   \n",
       "2020/03/28                      NaN                          NaN   \n",
       "2020/03/29                      NaN                          NaN   \n",
       "2020/03/30                      NaN                          NaN   \n",
       "2020/03/31                      NaN                          NaN   \n",
       "\n",
       "            cap_pct_7davg_total  icu_cap_pct_7davg  non_icu_cap_pct_7davg  \n",
       "Date                                                                       \n",
       "2020/03/27                  NaN                NaN                    NaN  \n",
       "2020/03/28                  NaN                NaN                    NaN  \n",
       "2020/03/29                  NaN                NaN                    NaN  \n",
       "2020/03/30                  NaN                NaN                    NaN  \n",
       "2020/03/31                  NaN                NaN                    NaN  \n",
       "\n",
       "[5 rows x 26 columns]"
      ]
     },
     "execution_count": 20,
     "metadata": {},
     "output_type": "execute_result"
    }
   ],
   "source": [
    "hosps = pd.read_csv(\"./COVID-19_hospitalizations_by_date.csv\",\n",
    "                index_col=\"Date\")\n",
    "hosps.head()"
   ]
  },
  {
   "cell_type": "code",
   "execution_count": 21,
   "metadata": {},
   "outputs": [
    {
     "data": {
      "text/plain": [
       "Index(['icu_covid', 'icu_pui', 'icu_other', 'icu_available', 'non_icu_covid',\n",
       "       'non_icu_pui', 'non_icu_other', 'non_icu_available', 'vents_pts',\n",
       "       'vents_available', 'covid_new', 'covid_total', 'pui_total',\n",
       "       'covid_total_7davg', 'pui_total_7davg', 'covid_pct_7davg',\n",
       "       'covid_pui_pct_7davg', 'other_total', 'available_total',\n",
       "       'icu_covid_pct_7davg', 'icu_covid_pui_pct_7davg',\n",
       "       'non_icu_covid_pct_7davg', 'non_icu_covid_pui_pct_7davg',\n",
       "       'cap_pct_7davg_total', 'icu_cap_pct_7davg', 'non_icu_cap_pct_7davg'],\n",
       "      dtype='object')"
      ]
     },
     "execution_count": 21,
     "metadata": {},
     "output_type": "execute_result"
    }
   ],
   "source": [
    "hosps.columns"
   ]
  },
  {
   "cell_type": "code",
   "execution_count": 22,
   "metadata": {},
   "outputs": [
    {
     "data": {
      "text/plain": [
       "<bound method DataFrame.info of             icu_covid  non_icu_covid  covid_new  covid_total\n",
       "Date                                                        \n",
       "2020/03/27         63             62        NaN          125\n",
       "2020/03/28         30            111        NaN          141\n",
       "2020/03/29         69             81        NaN          150\n",
       "2020/03/30         72             82        NaN          154\n",
       "2020/03/31         73             76        NaN          149\n",
       "...               ...            ...        ...          ...\n",
       "2020/08/31         43             86        9.0          131\n",
       "2020/09/01         46             80       15.0          128\n",
       "2020/09/02         47             78       15.0          128\n",
       "2020/09/03         45             73       10.0          122\n",
       "2020/09/04         41             75       22.0          120\n",
       "\n",
       "[162 rows x 4 columns]>"
      ]
     },
     "execution_count": 22,
     "metadata": {},
     "output_type": "execute_result"
    }
   ],
   "source": [
    "wanted = [\"icu_covid\", \"non_icu_covid\", \"covid_new\", \"covid_total\"]\n",
    "hosps = hosps[wanted]\n",
    "hosps.info"
   ]
  },
  {
   "cell_type": "code",
   "execution_count": 23,
   "metadata": {},
   "outputs": [
    {
     "data": {
      "text/plain": [
       "<AxesSubplot:xlabel='Date'>"
      ]
     },
     "execution_count": 23,
     "metadata": {},
     "output_type": "execute_result"
    },
    {
     "data": {
      "image/png": "[encoded data removed]",
      "text/plain": [
       "<Figure size 432x288 with 1 Axes>"
      ]
     },
     "metadata": {
      "needs_background": "light"
     },
     "output_type": "display_data"
    }
   ],
   "source": [
    "hosps.index = pd.to_datetime(hosps.index)\n",
    "hosps.fillna(0, inplace=True)\n",
    "hosps.plot()"
   ]
  },
  {
   "cell_type": "markdown",
   "metadata": {},
   "source": [
    "What is \"covid_total\"? Does it include \"covid_new\"?"
   ]
  },
  {
   "cell_type": "code",
   "execution_count": 24,
   "metadata": {},
   "outputs": [],
   "source": [
    "hosps[\"sum_with_new\"] = hosps[\"icu_covid\"] + hosps[\"non_icu_covid\"] + hosps[\"covid_new\"]\n",
    "hosps[\"sum_without_new\"] = hosps[\"icu_covid\"] + hosps[\"non_icu_covid\"]"
   ]
  },
  {
   "cell_type": "code",
   "execution_count": 25,
   "metadata": {},
   "outputs": [
    {
     "name": "stdout",
     "output_type": "stream",
     "text": [
      "21\n"
     ]
    },
    {
     "data": {
      "text/html": [
       "<div>\n",
       "<style scoped>\n",
       "    .dataframe tbody tr th:only-of-type {\n",
       "        vertical-align: middle;\n",
       "    }\n",
       "\n",
       "    .dataframe tbody tr th {\n",
       "        vertical-align: top;\n",
       "    }\n",
       "\n",
       "    .dataframe thead th {\n",
       "        text-align: right;\n",
       "    }\n",
       "</style>\n",
       "<table border=\"1\" class=\"dataframe\">\n",
       "  <thead>\n",
       "    <tr style=\"text-align: right;\">\n",
       "      <th></th>\n",
       "      <th>icu_covid</th>\n",
       "      <th>non_icu_covid</th>\n",
       "      <th>covid_new</th>\n",
       "      <th>covid_total</th>\n",
       "      <th>sum_with_new</th>\n",
       "      <th>sum_without_new</th>\n",
       "    </tr>\n",
       "    <tr>\n",
       "      <th>Date</th>\n",
       "      <th></th>\n",
       "      <th></th>\n",
       "      <th></th>\n",
       "      <th></th>\n",
       "      <th></th>\n",
       "      <th></th>\n",
       "    </tr>\n",
       "  </thead>\n",
       "  <tbody>\n",
       "    <tr>\n",
       "      <th>2020-03-27</th>\n",
       "      <td>63</td>\n",
       "      <td>62</td>\n",
       "      <td>0.0</td>\n",
       "      <td>125</td>\n",
       "      <td>125.0</td>\n",
       "      <td>125</td>\n",
       "    </tr>\n",
       "    <tr>\n",
       "      <th>2020-03-28</th>\n",
       "      <td>30</td>\n",
       "      <td>111</td>\n",
       "      <td>0.0</td>\n",
       "      <td>141</td>\n",
       "      <td>141.0</td>\n",
       "      <td>141</td>\n",
       "    </tr>\n",
       "    <tr>\n",
       "      <th>2020-03-29</th>\n",
       "      <td>69</td>\n",
       "      <td>81</td>\n",
       "      <td>0.0</td>\n",
       "      <td>150</td>\n",
       "      <td>150.0</td>\n",
       "      <td>150</td>\n",
       "    </tr>\n",
       "    <tr>\n",
       "      <th>2020-03-30</th>\n",
       "      <td>72</td>\n",
       "      <td>82</td>\n",
       "      <td>0.0</td>\n",
       "      <td>154</td>\n",
       "      <td>154.0</td>\n",
       "      <td>154</td>\n",
       "    </tr>\n",
       "    <tr>\n",
       "      <th>2020-03-31</th>\n",
       "      <td>73</td>\n",
       "      <td>76</td>\n",
       "      <td>0.0</td>\n",
       "      <td>149</td>\n",
       "      <td>149.0</td>\n",
       "      <td>149</td>\n",
       "    </tr>\n",
       "    <tr>\n",
       "      <th>2020-04-01</th>\n",
       "      <td>82</td>\n",
       "      <td>70</td>\n",
       "      <td>0.0</td>\n",
       "      <td>152</td>\n",
       "      <td>152.0</td>\n",
       "      <td>152</td>\n",
       "    </tr>\n",
       "    <tr>\n",
       "      <th>2020-04-02</th>\n",
       "      <td>75</td>\n",
       "      <td>90</td>\n",
       "      <td>0.0</td>\n",
       "      <td>165</td>\n",
       "      <td>165.0</td>\n",
       "      <td>165</td>\n",
       "    </tr>\n",
       "    <tr>\n",
       "      <th>2020-04-03</th>\n",
       "      <td>76</td>\n",
       "      <td>89</td>\n",
       "      <td>0.0</td>\n",
       "      <td>165</td>\n",
       "      <td>165.0</td>\n",
       "      <td>165</td>\n",
       "    </tr>\n",
       "    <tr>\n",
       "      <th>2020-04-04</th>\n",
       "      <td>69</td>\n",
       "      <td>99</td>\n",
       "      <td>0.0</td>\n",
       "      <td>168</td>\n",
       "      <td>168.0</td>\n",
       "      <td>168</td>\n",
       "    </tr>\n",
       "    <tr>\n",
       "      <th>2020-04-05</th>\n",
       "      <td>72</td>\n",
       "      <td>95</td>\n",
       "      <td>0.0</td>\n",
       "      <td>167</td>\n",
       "      <td>167.0</td>\n",
       "      <td>167</td>\n",
       "    </tr>\n",
       "    <tr>\n",
       "      <th>2020-04-06</th>\n",
       "      <td>73</td>\n",
       "      <td>108</td>\n",
       "      <td>0.0</td>\n",
       "      <td>181</td>\n",
       "      <td>181.0</td>\n",
       "      <td>181</td>\n",
       "    </tr>\n",
       "    <tr>\n",
       "      <th>2020-04-07</th>\n",
       "      <td>74</td>\n",
       "      <td>115</td>\n",
       "      <td>0.0</td>\n",
       "      <td>189</td>\n",
       "      <td>189.0</td>\n",
       "      <td>189</td>\n",
       "    </tr>\n",
       "    <tr>\n",
       "      <th>2020-04-08</th>\n",
       "      <td>73</td>\n",
       "      <td>77</td>\n",
       "      <td>0.0</td>\n",
       "      <td>150</td>\n",
       "      <td>150.0</td>\n",
       "      <td>150</td>\n",
       "    </tr>\n",
       "    <tr>\n",
       "      <th>2020-04-09</th>\n",
       "      <td>77</td>\n",
       "      <td>74</td>\n",
       "      <td>0.0</td>\n",
       "      <td>151</td>\n",
       "      <td>151.0</td>\n",
       "      <td>151</td>\n",
       "    </tr>\n",
       "    <tr>\n",
       "      <th>2020-04-10</th>\n",
       "      <td>66</td>\n",
       "      <td>89</td>\n",
       "      <td>0.0</td>\n",
       "      <td>155</td>\n",
       "      <td>155.0</td>\n",
       "      <td>155</td>\n",
       "    </tr>\n",
       "    <tr>\n",
       "      <th>2020-04-11</th>\n",
       "      <td>69</td>\n",
       "      <td>71</td>\n",
       "      <td>0.0</td>\n",
       "      <td>140</td>\n",
       "      <td>140.0</td>\n",
       "      <td>140</td>\n",
       "    </tr>\n",
       "    <tr>\n",
       "      <th>2020-04-12</th>\n",
       "      <td>69</td>\n",
       "      <td>70</td>\n",
       "      <td>0.0</td>\n",
       "      <td>139</td>\n",
       "      <td>139.0</td>\n",
       "      <td>139</td>\n",
       "    </tr>\n",
       "    <tr>\n",
       "      <th>2020-04-13</th>\n",
       "      <td>64</td>\n",
       "      <td>84</td>\n",
       "      <td>0.0</td>\n",
       "      <td>148</td>\n",
       "      <td>148.0</td>\n",
       "      <td>148</td>\n",
       "    </tr>\n",
       "    <tr>\n",
       "      <th>2020-04-14</th>\n",
       "      <td>65</td>\n",
       "      <td>73</td>\n",
       "      <td>0.0</td>\n",
       "      <td>138</td>\n",
       "      <td>138.0</td>\n",
       "      <td>138</td>\n",
       "    </tr>\n",
       "    <tr>\n",
       "      <th>2020-04-15</th>\n",
       "      <td>64</td>\n",
       "      <td>77</td>\n",
       "      <td>0.0</td>\n",
       "      <td>141</td>\n",
       "      <td>141.0</td>\n",
       "      <td>141</td>\n",
       "    </tr>\n",
       "    <tr>\n",
       "      <th>2020-05-27</th>\n",
       "      <td>12</td>\n",
       "      <td>15</td>\n",
       "      <td>0.0</td>\n",
       "      <td>27</td>\n",
       "      <td>27.0</td>\n",
       "      <td>27</td>\n",
       "    </tr>\n",
       "  </tbody>\n",
       "</table>\n",
       "</div>"
      ],
      "text/plain": [
       "            icu_covid  non_icu_covid  covid_new  covid_total  sum_with_new  \\\n",
       "Date                                                                         \n",
       "2020-03-27         63             62        0.0          125         125.0   \n",
       "2020-03-28         30            111        0.0          141         141.0   \n",
       "2020-03-29         69             81        0.0          150         150.0   \n",
       "2020-03-30         72             82        0.0          154         154.0   \n",
       "2020-03-31         73             76        0.0          149         149.0   \n",
       "2020-04-01         82             70        0.0          152         152.0   \n",
       "2020-04-02         75             90        0.0          165         165.0   \n",
       "2020-04-03         76             89        0.0          165         165.0   \n",
       "2020-04-04         69             99        0.0          168         168.0   \n",
       "2020-04-05         72             95        0.0          167         167.0   \n",
       "2020-04-06         73            108        0.0          181         181.0   \n",
       "2020-04-07         74            115        0.0          189         189.0   \n",
       "2020-04-08         73             77        0.0          150         150.0   \n",
       "2020-04-09         77             74        0.0          151         151.0   \n",
       "2020-04-10         66             89        0.0          155         155.0   \n",
       "2020-04-11         69             71        0.0          140         140.0   \n",
       "2020-04-12         69             70        0.0          139         139.0   \n",
       "2020-04-13         64             84        0.0          148         148.0   \n",
       "2020-04-14         65             73        0.0          138         138.0   \n",
       "2020-04-15         64             77        0.0          141         141.0   \n",
       "2020-05-27         12             15        0.0           27          27.0   \n",
       "\n",
       "            sum_without_new  \n",
       "Date                         \n",
       "2020-03-27              125  \n",
       "2020-03-28              141  \n",
       "2020-03-29              150  \n",
       "2020-03-30              154  \n",
       "2020-03-31              149  \n",
       "2020-04-01              152  \n",
       "2020-04-02              165  \n",
       "2020-04-03              165  \n",
       "2020-04-04              168  \n",
       "2020-04-05              167  \n",
       "2020-04-06              181  \n",
       "2020-04-07              189  \n",
       "2020-04-08              150  \n",
       "2020-04-09              151  \n",
       "2020-04-10              155  \n",
       "2020-04-11              140  \n",
       "2020-04-12              139  \n",
       "2020-04-13              148  \n",
       "2020-04-14              138  \n",
       "2020-04-15              141  \n",
       "2020-05-27               27  "
      ]
     },
     "execution_count": 25,
     "metadata": {},
     "output_type": "execute_result"
    }
   ],
   "source": [
    "sames = hosps[(hosps[\"sum_with_new\"] == hosps[\"sum_without_new\"])]\n",
    "print(len(sames))\n",
    "sames  # all have covid_new == 0 "
   ]
  },
  {
   "cell_type": "code",
   "execution_count": 26,
   "metadata": {},
   "outputs": [
    {
     "data": {
      "text/html": [
       "<div>\n",
       "<style scoped>\n",
       "    .dataframe tbody tr th:only-of-type {\n",
       "        vertical-align: middle;\n",
       "    }\n",
       "\n",
       "    .dataframe tbody tr th {\n",
       "        vertical-align: top;\n",
       "    }\n",
       "\n",
       "    .dataframe thead th {\n",
       "        text-align: right;\n",
       "    }\n",
       "</style>\n",
       "<table border=\"1\" class=\"dataframe\">\n",
       "  <thead>\n",
       "    <tr style=\"text-align: right;\">\n",
       "      <th></th>\n",
       "      <th>icu_covid</th>\n",
       "      <th>non_icu_covid</th>\n",
       "      <th>covid_new</th>\n",
       "      <th>covid_total</th>\n",
       "      <th>sum_with_new</th>\n",
       "      <th>sum_without_new</th>\n",
       "    </tr>\n",
       "    <tr>\n",
       "      <th>Date</th>\n",
       "      <th></th>\n",
       "      <th></th>\n",
       "      <th></th>\n",
       "      <th></th>\n",
       "      <th></th>\n",
       "      <th></th>\n",
       "    </tr>\n",
       "  </thead>\n",
       "  <tbody>\n",
       "    <tr>\n",
       "      <th>2020-04-16</th>\n",
       "      <td>58</td>\n",
       "      <td>69</td>\n",
       "      <td>12.0</td>\n",
       "      <td>127</td>\n",
       "      <td>139.0</td>\n",
       "      <td>127</td>\n",
       "    </tr>\n",
       "    <tr>\n",
       "      <th>2020-04-17</th>\n",
       "      <td>72</td>\n",
       "      <td>67</td>\n",
       "      <td>33.0</td>\n",
       "      <td>139</td>\n",
       "      <td>172.0</td>\n",
       "      <td>139</td>\n",
       "    </tr>\n",
       "    <tr>\n",
       "      <th>2020-04-18</th>\n",
       "      <td>66</td>\n",
       "      <td>69</td>\n",
       "      <td>26.0</td>\n",
       "      <td>135</td>\n",
       "      <td>161.0</td>\n",
       "      <td>135</td>\n",
       "    </tr>\n",
       "    <tr>\n",
       "      <th>2020-04-19</th>\n",
       "      <td>67</td>\n",
       "      <td>76</td>\n",
       "      <td>24.0</td>\n",
       "      <td>143</td>\n",
       "      <td>167.0</td>\n",
       "      <td>143</td>\n",
       "    </tr>\n",
       "    <tr>\n",
       "      <th>2020-04-20</th>\n",
       "      <td>69</td>\n",
       "      <td>79</td>\n",
       "      <td>29.0</td>\n",
       "      <td>148</td>\n",
       "      <td>177.0</td>\n",
       "      <td>148</td>\n",
       "    </tr>\n",
       "    <tr>\n",
       "      <th>...</th>\n",
       "      <td>...</td>\n",
       "      <td>...</td>\n",
       "      <td>...</td>\n",
       "      <td>...</td>\n",
       "      <td>...</td>\n",
       "      <td>...</td>\n",
       "    </tr>\n",
       "    <tr>\n",
       "      <th>2020-08-31</th>\n",
       "      <td>43</td>\n",
       "      <td>86</td>\n",
       "      <td>9.0</td>\n",
       "      <td>131</td>\n",
       "      <td>138.0</td>\n",
       "      <td>129</td>\n",
       "    </tr>\n",
       "    <tr>\n",
       "      <th>2020-09-01</th>\n",
       "      <td>46</td>\n",
       "      <td>80</td>\n",
       "      <td>15.0</td>\n",
       "      <td>128</td>\n",
       "      <td>141.0</td>\n",
       "      <td>126</td>\n",
       "    </tr>\n",
       "    <tr>\n",
       "      <th>2020-09-02</th>\n",
       "      <td>47</td>\n",
       "      <td>78</td>\n",
       "      <td>15.0</td>\n",
       "      <td>128</td>\n",
       "      <td>140.0</td>\n",
       "      <td>125</td>\n",
       "    </tr>\n",
       "    <tr>\n",
       "      <th>2020-09-03</th>\n",
       "      <td>45</td>\n",
       "      <td>73</td>\n",
       "      <td>10.0</td>\n",
       "      <td>122</td>\n",
       "      <td>128.0</td>\n",
       "      <td>118</td>\n",
       "    </tr>\n",
       "    <tr>\n",
       "      <th>2020-09-04</th>\n",
       "      <td>41</td>\n",
       "      <td>75</td>\n",
       "      <td>22.0</td>\n",
       "      <td>120</td>\n",
       "      <td>138.0</td>\n",
       "      <td>116</td>\n",
       "    </tr>\n",
       "  </tbody>\n",
       "</table>\n",
       "<p>141 rows × 6 columns</p>\n",
       "</div>"
      ],
      "text/plain": [
       "            icu_covid  non_icu_covid  covid_new  covid_total  sum_with_new  \\\n",
       "Date                                                                         \n",
       "2020-04-16         58             69       12.0          127         139.0   \n",
       "2020-04-17         72             67       33.0          139         172.0   \n",
       "2020-04-18         66             69       26.0          135         161.0   \n",
       "2020-04-19         67             76       24.0          143         167.0   \n",
       "2020-04-20         69             79       29.0          148         177.0   \n",
       "...               ...            ...        ...          ...           ...   \n",
       "2020-08-31         43             86        9.0          131         138.0   \n",
       "2020-09-01         46             80       15.0          128         141.0   \n",
       "2020-09-02         47             78       15.0          128         140.0   \n",
       "2020-09-03         45             73       10.0          122         128.0   \n",
       "2020-09-04         41             75       22.0          120         138.0   \n",
       "\n",
       "            sum_without_new  \n",
       "Date                         \n",
       "2020-04-16              127  \n",
       "2020-04-17              139  \n",
       "2020-04-18              135  \n",
       "2020-04-19              143  \n",
       "2020-04-20              148  \n",
       "...                     ...  \n",
       "2020-08-31              129  \n",
       "2020-09-01              126  \n",
       "2020-09-02              125  \n",
       "2020-09-03              118  \n",
       "2020-09-04              116  \n",
       "\n",
       "[141 rows x 6 columns]"
      ]
     },
     "execution_count": 26,
     "metadata": {},
     "output_type": "execute_result"
    }
   ],
   "source": [
    "interesting = hosps[hosps[\"sum_with_new\"] != hosps[\"sum_without_new\"]] \n",
    "interesting"
   ]
  },
  {
   "cell_type": "code",
   "execution_count": 27,
   "metadata": {},
   "outputs": [
    {
     "data": {
      "text/html": [
       "<div>\n",
       "<style scoped>\n",
       "    .dataframe tbody tr th:only-of-type {\n",
       "        vertical-align: middle;\n",
       "    }\n",
       "\n",
       "    .dataframe tbody tr th {\n",
       "        vertical-align: top;\n",
       "    }\n",
       "\n",
       "    .dataframe thead th {\n",
       "        text-align: right;\n",
       "    }\n",
       "</style>\n",
       "<table border=\"1\" class=\"dataframe\">\n",
       "  <thead>\n",
       "    <tr style=\"text-align: right;\">\n",
       "      <th></th>\n",
       "      <th>icu_covid</th>\n",
       "      <th>non_icu_covid</th>\n",
       "      <th>covid_new</th>\n",
       "      <th>covid_total</th>\n",
       "      <th>sum_with_new</th>\n",
       "      <th>sum_without_new</th>\n",
       "    </tr>\n",
       "    <tr>\n",
       "      <th>Date</th>\n",
       "      <th></th>\n",
       "      <th></th>\n",
       "      <th></th>\n",
       "      <th></th>\n",
       "      <th></th>\n",
       "      <th></th>\n",
       "    </tr>\n",
       "  </thead>\n",
       "  <tbody>\n",
       "    <tr>\n",
       "      <th>2020-04-16</th>\n",
       "      <td>58</td>\n",
       "      <td>69</td>\n",
       "      <td>12.0</td>\n",
       "      <td>127</td>\n",
       "      <td>139.0</td>\n",
       "      <td>127</td>\n",
       "    </tr>\n",
       "    <tr>\n",
       "      <th>2020-04-17</th>\n",
       "      <td>72</td>\n",
       "      <td>67</td>\n",
       "      <td>33.0</td>\n",
       "      <td>139</td>\n",
       "      <td>172.0</td>\n",
       "      <td>139</td>\n",
       "    </tr>\n",
       "    <tr>\n",
       "      <th>2020-04-18</th>\n",
       "      <td>66</td>\n",
       "      <td>69</td>\n",
       "      <td>26.0</td>\n",
       "      <td>135</td>\n",
       "      <td>161.0</td>\n",
       "      <td>135</td>\n",
       "    </tr>\n",
       "    <tr>\n",
       "      <th>2020-04-19</th>\n",
       "      <td>67</td>\n",
       "      <td>76</td>\n",
       "      <td>24.0</td>\n",
       "      <td>143</td>\n",
       "      <td>167.0</td>\n",
       "      <td>143</td>\n",
       "    </tr>\n",
       "    <tr>\n",
       "      <th>2020-04-20</th>\n",
       "      <td>69</td>\n",
       "      <td>79</td>\n",
       "      <td>29.0</td>\n",
       "      <td>148</td>\n",
       "      <td>177.0</td>\n",
       "      <td>148</td>\n",
       "    </tr>\n",
       "    <tr>\n",
       "      <th>...</th>\n",
       "      <td>...</td>\n",
       "      <td>...</td>\n",
       "      <td>...</td>\n",
       "      <td>...</td>\n",
       "      <td>...</td>\n",
       "      <td>...</td>\n",
       "    </tr>\n",
       "    <tr>\n",
       "      <th>2020-07-04</th>\n",
       "      <td>35</td>\n",
       "      <td>50</td>\n",
       "      <td>11.0</td>\n",
       "      <td>85</td>\n",
       "      <td>96.0</td>\n",
       "      <td>85</td>\n",
       "    </tr>\n",
       "    <tr>\n",
       "      <th>2020-07-05</th>\n",
       "      <td>36</td>\n",
       "      <td>50</td>\n",
       "      <td>7.0</td>\n",
       "      <td>86</td>\n",
       "      <td>93.0</td>\n",
       "      <td>86</td>\n",
       "    </tr>\n",
       "    <tr>\n",
       "      <th>2020-07-06</th>\n",
       "      <td>33</td>\n",
       "      <td>55</td>\n",
       "      <td>21.0</td>\n",
       "      <td>88</td>\n",
       "      <td>109.0</td>\n",
       "      <td>88</td>\n",
       "    </tr>\n",
       "    <tr>\n",
       "      <th>2020-07-07</th>\n",
       "      <td>40</td>\n",
       "      <td>56</td>\n",
       "      <td>16.0</td>\n",
       "      <td>96</td>\n",
       "      <td>112.0</td>\n",
       "      <td>96</td>\n",
       "    </tr>\n",
       "    <tr>\n",
       "      <th>2020-07-08</th>\n",
       "      <td>46</td>\n",
       "      <td>58</td>\n",
       "      <td>25.0</td>\n",
       "      <td>104</td>\n",
       "      <td>129.0</td>\n",
       "      <td>104</td>\n",
       "    </tr>\n",
       "  </tbody>\n",
       "</table>\n",
       "<p>83 rows × 6 columns</p>\n",
       "</div>"
      ],
      "text/plain": [
       "            icu_covid  non_icu_covid  covid_new  covid_total  sum_with_new  \\\n",
       "Date                                                                         \n",
       "2020-04-16         58             69       12.0          127         139.0   \n",
       "2020-04-17         72             67       33.0          139         172.0   \n",
       "2020-04-18         66             69       26.0          135         161.0   \n",
       "2020-04-19         67             76       24.0          143         167.0   \n",
       "2020-04-20         69             79       29.0          148         177.0   \n",
       "...               ...            ...        ...          ...           ...   \n",
       "2020-07-04         35             50       11.0           85          96.0   \n",
       "2020-07-05         36             50        7.0           86          93.0   \n",
       "2020-07-06         33             55       21.0           88         109.0   \n",
       "2020-07-07         40             56       16.0           96         112.0   \n",
       "2020-07-08         46             58       25.0          104         129.0   \n",
       "\n",
       "            sum_without_new  \n",
       "Date                         \n",
       "2020-04-16              127  \n",
       "2020-04-17              139  \n",
       "2020-04-18              135  \n",
       "2020-04-19              143  \n",
       "2020-04-20              148  \n",
       "...                     ...  \n",
       "2020-07-04               85  \n",
       "2020-07-05               86  \n",
       "2020-07-06               88  \n",
       "2020-07-07               96  \n",
       "2020-07-08              104  \n",
       "\n",
       "[83 rows x 6 columns]"
      ]
     },
     "execution_count": 27,
     "metadata": {},
     "output_type": "execute_result"
    }
   ],
   "source": [
    "interesting[interesting[\"sum_without_new\"] == interesting[\"covid_total\"]] \n",
    "# They changed the scheme of data collection?"
   ]
  },
  {
   "cell_type": "code",
   "execution_count": 28,
   "metadata": {
    "scrolled": true
   },
   "outputs": [
    {
     "name": "stdout",
     "output_type": "stream",
     "text": [
      "58 in strange.\n"
     ]
    },
    {
     "data": {
      "text/html": [
       "<div>\n",
       "<style scoped>\n",
       "    .dataframe tbody tr th:only-of-type {\n",
       "        vertical-align: middle;\n",
       "    }\n",
       "\n",
       "    .dataframe tbody tr th {\n",
       "        vertical-align: top;\n",
       "    }\n",
       "\n",
       "    .dataframe thead th {\n",
       "        text-align: right;\n",
       "    }\n",
       "</style>\n",
       "<table border=\"1\" class=\"dataframe\">\n",
       "  <thead>\n",
       "    <tr style=\"text-align: right;\">\n",
       "      <th></th>\n",
       "      <th>covid_new</th>\n",
       "      <th>covid_total</th>\n",
       "      <th>sum_with_new</th>\n",
       "      <th>sum_without_new</th>\n",
       "    </tr>\n",
       "    <tr>\n",
       "      <th>Date</th>\n",
       "      <th></th>\n",
       "      <th></th>\n",
       "      <th></th>\n",
       "      <th></th>\n",
       "    </tr>\n",
       "  </thead>\n",
       "  <tbody>\n",
       "    <tr>\n",
       "      <th>2020-07-09</th>\n",
       "      <td>19.0</td>\n",
       "      <td>116</td>\n",
       "      <td>131.0</td>\n",
       "      <td>112</td>\n",
       "    </tr>\n",
       "    <tr>\n",
       "      <th>2020-07-10</th>\n",
       "      <td>21.0</td>\n",
       "      <td>118</td>\n",
       "      <td>134.0</td>\n",
       "      <td>113</td>\n",
       "    </tr>\n",
       "    <tr>\n",
       "      <th>2020-07-11</th>\n",
       "      <td>15.0</td>\n",
       "      <td>120</td>\n",
       "      <td>130.0</td>\n",
       "      <td>115</td>\n",
       "    </tr>\n",
       "    <tr>\n",
       "      <th>2020-07-12</th>\n",
       "      <td>33.0</td>\n",
       "      <td>129</td>\n",
       "      <td>158.0</td>\n",
       "      <td>125</td>\n",
       "    </tr>\n",
       "    <tr>\n",
       "      <th>2020-07-13</th>\n",
       "      <td>21.0</td>\n",
       "      <td>144</td>\n",
       "      <td>154.0</td>\n",
       "      <td>133</td>\n",
       "    </tr>\n",
       "  </tbody>\n",
       "</table>\n",
       "</div>"
      ],
      "text/plain": [
       "            covid_new  covid_total  sum_with_new  sum_without_new\n",
       "Date                                                             \n",
       "2020-07-09       19.0          116         131.0              112\n",
       "2020-07-10       21.0          118         134.0              113\n",
       "2020-07-11       15.0          120         130.0              115\n",
       "2020-07-12       33.0          129         158.0              125\n",
       "2020-07-13       21.0          144         154.0              133"
      ]
     },
     "execution_count": 28,
     "metadata": {},
     "output_type": "execute_result"
    }
   ],
   "source": [
    "strange = interesting[interesting[\"sum_without_new\"] != interesting[\"covid_total\"]]\n",
    "strange = strange.loc[:, \"covid_new\":\"sum_without_new\"]\n",
    "print(f\"{len(strange)} in strange.\")\n",
    "\n",
    "strange.head()"
   ]
  },
  {
   "cell_type": "code",
   "execution_count": 29,
   "metadata": {},
   "outputs": [
    {
     "data": {
      "text/plain": [
       "141"
      ]
     },
     "execution_count": 29,
     "metadata": {},
     "output_type": "execute_result"
    }
   ],
   "source": [
    "83 + 58  # They add up."
   ]
  },
  {
   "cell_type": "code",
   "execution_count": 30,
   "metadata": {},
   "outputs": [
    {
     "data": {
      "text/plain": [
       "<AxesSubplot:xlabel='Date'>"
      ]
     },
     "execution_count": 30,
     "metadata": {},
     "output_type": "execute_result"
    },
    {
     "data": {
      "image/png": "[encoded data removed]",
      "text/plain": [
       "<Figure size 432x288 with 1 Axes>"
      ]
     },
     "metadata": {
      "needs_background": "light"
     },
     "output_type": "display_data"
    }
   ],
   "source": [
    "strange.plot()"
   ]
  },
  {
   "cell_type": "code",
   "execution_count": 31,
   "metadata": {},
   "outputs": [
    {
     "data": {
      "text/html": [
       "<div>\n",
       "<style scoped>\n",
       "    .dataframe tbody tr th:only-of-type {\n",
       "        vertical-align: middle;\n",
       "    }\n",
       "\n",
       "    .dataframe tbody tr th {\n",
       "        vertical-align: top;\n",
       "    }\n",
       "\n",
       "    .dataframe thead th {\n",
       "        text-align: right;\n",
       "    }\n",
       "</style>\n",
       "<table border=\"1\" class=\"dataframe\">\n",
       "  <thead>\n",
       "    <tr style=\"text-align: right;\">\n",
       "      <th></th>\n",
       "      <th>covid_new</th>\n",
       "      <th>covid_total</th>\n",
       "      <th>sum_with_new</th>\n",
       "      <th>sum_without_new</th>\n",
       "      <th>day_before_sum</th>\n",
       "    </tr>\n",
       "    <tr>\n",
       "      <th>Date</th>\n",
       "      <th></th>\n",
       "      <th></th>\n",
       "      <th></th>\n",
       "      <th></th>\n",
       "      <th></th>\n",
       "    </tr>\n",
       "  </thead>\n",
       "  <tbody>\n",
       "    <tr>\n",
       "      <th>2020-07-09</th>\n",
       "      <td>19.0</td>\n",
       "      <td>116</td>\n",
       "      <td>131.0</td>\n",
       "      <td>112</td>\n",
       "      <td>112</td>\n",
       "    </tr>\n",
       "    <tr>\n",
       "      <th>2020-07-10</th>\n",
       "      <td>21.0</td>\n",
       "      <td>118</td>\n",
       "      <td>134.0</td>\n",
       "      <td>113</td>\n",
       "      <td>113</td>\n",
       "    </tr>\n",
       "    <tr>\n",
       "      <th>2020-07-11</th>\n",
       "      <td>15.0</td>\n",
       "      <td>120</td>\n",
       "      <td>130.0</td>\n",
       "      <td>115</td>\n",
       "      <td>115</td>\n",
       "    </tr>\n",
       "    <tr>\n",
       "      <th>2020-07-12</th>\n",
       "      <td>33.0</td>\n",
       "      <td>129</td>\n",
       "      <td>158.0</td>\n",
       "      <td>125</td>\n",
       "      <td>125</td>\n",
       "    </tr>\n",
       "    <tr>\n",
       "      <th>2020-07-13</th>\n",
       "      <td>21.0</td>\n",
       "      <td>144</td>\n",
       "      <td>154.0</td>\n",
       "      <td>133</td>\n",
       "      <td>133</td>\n",
       "    </tr>\n",
       "  </tbody>\n",
       "</table>\n",
       "</div>"
      ],
      "text/plain": [
       "            covid_new  covid_total  sum_with_new  sum_without_new  \\\n",
       "Date                                                                \n",
       "2020-07-09       19.0          116         131.0              112   \n",
       "2020-07-10       21.0          118         134.0              113   \n",
       "2020-07-11       15.0          120         130.0              115   \n",
       "2020-07-12       33.0          129         158.0              125   \n",
       "2020-07-13       21.0          144         154.0              133   \n",
       "\n",
       "            day_before_sum  \n",
       "Date                        \n",
       "2020-07-09             112  \n",
       "2020-07-10             113  \n",
       "2020-07-11             115  \n",
       "2020-07-12             125  \n",
       "2020-07-13             133  "
      ]
     },
     "execution_count": 31,
     "metadata": {},
     "output_type": "execute_result"
    }
   ],
   "source": [
    "from datetime import timedelta\n",
    "\n",
    "# Is covid_total = sum_without_new + covid_new of the day before?\n",
    "# list is better for manipulation\n",
    "\n",
    "# Making a new column  - arithmetic comes next.  \n",
    "strange[\"day_before_sum\"] = strange.loc[:, \"sum_without_new\"]\n",
    "strange.head()"
   ]
  },
  {
   "cell_type": "code",
   "execution_count": 32,
   "metadata": {},
   "outputs": [],
   "source": [
    "one_day_delta = timedelta(days=1)\n",
    "for date_time in strange.index:\n",
    "    day_before = str(date_time - one_day_delta)[:11]\n",
    "    # print(date_time, day_before, hosps.loc[day_before, \"covid_new\"])\n",
    "    strange.loc[date_time, \"day_before_sum\"] += hosps.loc[day_before, \"covid_new\"]"
   ]
  },
  {
   "cell_type": "code",
   "execution_count": 33,
   "metadata": {},
   "outputs": [
    {
     "data": {
      "text/html": [
       "<div>\n",
       "<style scoped>\n",
       "    .dataframe tbody tr th:only-of-type {\n",
       "        vertical-align: middle;\n",
       "    }\n",
       "\n",
       "    .dataframe tbody tr th {\n",
       "        vertical-align: top;\n",
       "    }\n",
       "\n",
       "    .dataframe thead th {\n",
       "        text-align: right;\n",
       "    }\n",
       "</style>\n",
       "<table border=\"1\" class=\"dataframe\">\n",
       "  <thead>\n",
       "    <tr style=\"text-align: right;\">\n",
       "      <th></th>\n",
       "      <th>covid_new</th>\n",
       "      <th>covid_total</th>\n",
       "      <th>sum_with_new</th>\n",
       "      <th>sum_without_new</th>\n",
       "      <th>day_before_sum</th>\n",
       "    </tr>\n",
       "    <tr>\n",
       "      <th>Date</th>\n",
       "      <th></th>\n",
       "      <th></th>\n",
       "      <th></th>\n",
       "      <th></th>\n",
       "      <th></th>\n",
       "    </tr>\n",
       "  </thead>\n",
       "  <tbody>\n",
       "    <tr>\n",
       "      <th>2020-07-09</th>\n",
       "      <td>19.0</td>\n",
       "      <td>116</td>\n",
       "      <td>131.0</td>\n",
       "      <td>112</td>\n",
       "      <td>137</td>\n",
       "    </tr>\n",
       "    <tr>\n",
       "      <th>2020-07-10</th>\n",
       "      <td>21.0</td>\n",
       "      <td>118</td>\n",
       "      <td>134.0</td>\n",
       "      <td>113</td>\n",
       "      <td>132</td>\n",
       "    </tr>\n",
       "    <tr>\n",
       "      <th>2020-07-11</th>\n",
       "      <td>15.0</td>\n",
       "      <td>120</td>\n",
       "      <td>130.0</td>\n",
       "      <td>115</td>\n",
       "      <td>136</td>\n",
       "    </tr>\n",
       "    <tr>\n",
       "      <th>2020-07-12</th>\n",
       "      <td>33.0</td>\n",
       "      <td>129</td>\n",
       "      <td>158.0</td>\n",
       "      <td>125</td>\n",
       "      <td>140</td>\n",
       "    </tr>\n",
       "    <tr>\n",
       "      <th>2020-07-13</th>\n",
       "      <td>21.0</td>\n",
       "      <td>144</td>\n",
       "      <td>154.0</td>\n",
       "      <td>133</td>\n",
       "      <td>166</td>\n",
       "    </tr>\n",
       "  </tbody>\n",
       "</table>\n",
       "</div>"
      ],
      "text/plain": [
       "            covid_new  covid_total  sum_with_new  sum_without_new  \\\n",
       "Date                                                                \n",
       "2020-07-09       19.0          116         131.0              112   \n",
       "2020-07-10       21.0          118         134.0              113   \n",
       "2020-07-11       15.0          120         130.0              115   \n",
       "2020-07-12       33.0          129         158.0              125   \n",
       "2020-07-13       21.0          144         154.0              133   \n",
       "\n",
       "            day_before_sum  \n",
       "Date                        \n",
       "2020-07-09             137  \n",
       "2020-07-10             132  \n",
       "2020-07-11             136  \n",
       "2020-07-12             140  \n",
       "2020-07-13             166  "
      ]
     },
     "execution_count": 33,
     "metadata": {},
     "output_type": "execute_result"
    }
   ],
   "source": [
    "strange.head()"
   ]
  },
  {
   "cell_type": "code",
   "execution_count": 34,
   "metadata": {},
   "outputs": [
    {
     "data": {
      "text/plain": [
       "<AxesSubplot:xlabel='Date'>"
      ]
     },
     "execution_count": 34,
     "metadata": {},
     "output_type": "execute_result"
    },
    {
     "data": {
      "image/png": "[encoded data removed]",
      "text/plain": [
       "<Figure size 432x288 with 1 Axes>"
      ]
     },
     "metadata": {
      "needs_background": "light"
     },
     "output_type": "display_data"
    }
   ],
   "source": [
    "strange.plot()"
   ]
  },
  {
   "cell_type": "code",
   "execution_count": 35,
   "metadata": {},
   "outputs": [
    {
     "data": {
      "text/html": [
       "<div>\n",
       "<style scoped>\n",
       "    .dataframe tbody tr th:only-of-type {\n",
       "        vertical-align: middle;\n",
       "    }\n",
       "\n",
       "    .dataframe tbody tr th {\n",
       "        vertical-align: top;\n",
       "    }\n",
       "\n",
       "    .dataframe thead th {\n",
       "        text-align: right;\n",
       "    }\n",
       "</style>\n",
       "<table border=\"1\" class=\"dataframe\">\n",
       "  <thead>\n",
       "    <tr style=\"text-align: right;\">\n",
       "      <th></th>\n",
       "      <th>Daily_hosp_total</th>\n",
       "    </tr>\n",
       "    <tr>\n",
       "      <th>Date</th>\n",
       "      <th></th>\n",
       "    </tr>\n",
       "  </thead>\n",
       "  <tbody>\n",
       "    <tr>\n",
       "      <th>2020-03-27</th>\n",
       "      <td>125</td>\n",
       "    </tr>\n",
       "    <tr>\n",
       "      <th>2020-03-28</th>\n",
       "      <td>141</td>\n",
       "    </tr>\n",
       "    <tr>\n",
       "      <th>2020-03-29</th>\n",
       "      <td>150</td>\n",
       "    </tr>\n",
       "    <tr>\n",
       "      <th>2020-03-30</th>\n",
       "      <td>154</td>\n",
       "    </tr>\n",
       "    <tr>\n",
       "      <th>2020-03-31</th>\n",
       "      <td>149</td>\n",
       "    </tr>\n",
       "  </tbody>\n",
       "</table>\n",
       "</div>"
      ],
      "text/plain": [
       "            Daily_hosp_total\n",
       "Date                        \n",
       "2020-03-27               125\n",
       "2020-03-28               141\n",
       "2020-03-29               150\n",
       "2020-03-30               154\n",
       "2020-03-31               149"
      ]
     },
     "execution_count": 35,
     "metadata": {},
     "output_type": "execute_result"
    }
   ],
   "source": [
    "\n",
    "# No, that isn't it.  So there's some strange reporting.  Giving up.  \n",
    "# The site says:  New COVID-19 patients represent either newly admitted patients \n",
    "# with COVID-19 or PUIs already hospitalized that then test positive for COVID-19.\n",
    "# PUI = Person Under Investigation\n",
    "\n",
    "hosps.drop([\"icu_covid\", \"non_icu_covid\", \"sum_with_new\", \"sum_without_new\", \"covid_new\"], axis=1, inplace=True)\n",
    "hosps.rename({\"covid_total\": \"Daily_hosp_total\"}, axis=1, inplace=True)\n",
    "hosps.head()"
   ]
  },
  {
   "cell_type": "code",
   "execution_count": 36,
   "metadata": {},
   "outputs": [],
   "source": [
    "deaths = pd.read_csv(\"./Count_of_deaths_with_COVID-19_by_date.csv\",   # LTCF = long-term care facility\n",
    "                    index_col = \"Date\")"
   ]
  },
  {
   "cell_type": "code",
   "execution_count": 37,
   "metadata": {},
   "outputs": [
    {
     "data": {
      "text/html": [
       "<div>\n",
       "<style scoped>\n",
       "    .dataframe tbody tr th:only-of-type {\n",
       "        vertical-align: middle;\n",
       "    }\n",
       "\n",
       "    .dataframe tbody tr th {\n",
       "        vertical-align: top;\n",
       "    }\n",
       "\n",
       "    .dataframe thead th {\n",
       "        text-align: right;\n",
       "    }\n",
       "</style>\n",
       "<table border=\"1\" class=\"dataframe\">\n",
       "  <thead>\n",
       "    <tr style=\"text-align: right;\">\n",
       "      <th></th>\n",
       "      <th>LTCF</th>\n",
       "      <th>Non_ltcf</th>\n",
       "      <th>Total</th>\n",
       "      <th>Cumulative</th>\n",
       "    </tr>\n",
       "    <tr>\n",
       "      <th>Date</th>\n",
       "      <th></th>\n",
       "      <th></th>\n",
       "      <th></th>\n",
       "      <th></th>\n",
       "    </tr>\n",
       "  </thead>\n",
       "  <tbody>\n",
       "    <tr>\n",
       "      <th>2020/08/30</th>\n",
       "      <td>0</td>\n",
       "      <td>3</td>\n",
       "      <td>3</td>\n",
       "      <td>253</td>\n",
       "    </tr>\n",
       "    <tr>\n",
       "      <th>2020/08/31</th>\n",
       "      <td>1</td>\n",
       "      <td>0</td>\n",
       "      <td>1</td>\n",
       "      <td>254</td>\n",
       "    </tr>\n",
       "    <tr>\n",
       "      <th>2020/09/02</th>\n",
       "      <td>1</td>\n",
       "      <td>0</td>\n",
       "      <td>1</td>\n",
       "      <td>255</td>\n",
       "    </tr>\n",
       "    <tr>\n",
       "      <th>2020/09/03</th>\n",
       "      <td>0</td>\n",
       "      <td>1</td>\n",
       "      <td>1</td>\n",
       "      <td>256</td>\n",
       "    </tr>\n",
       "    <tr>\n",
       "      <th>2020/09/04</th>\n",
       "      <td>1</td>\n",
       "      <td>0</td>\n",
       "      <td>1</td>\n",
       "      <td>257</td>\n",
       "    </tr>\n",
       "  </tbody>\n",
       "</table>\n",
       "</div>"
      ],
      "text/plain": [
       "            LTCF  Non_ltcf  Total  Cumulative\n",
       "Date                                         \n",
       "2020/08/30     0         3      3         253\n",
       "2020/08/31     1         0      1         254\n",
       "2020/09/02     1         0      1         255\n",
       "2020/09/03     0         1      1         256\n",
       "2020/09/04     1         0      1         257"
      ]
     },
     "execution_count": 37,
     "metadata": {},
     "output_type": "execute_result"
    }
   ],
   "source": [
    "deaths.tail()"
   ]
  },
  {
   "cell_type": "code",
   "execution_count": 38,
   "metadata": {},
   "outputs": [
    {
     "data": {
      "text/plain": [
       "<AxesSubplot:xlabel='Date'>"
      ]
     },
     "execution_count": 38,
     "metadata": {},
     "output_type": "execute_result"
    },
    {
     "data": {
      "image/png": "[encoded data removed]",
      "text/plain": [
       "<Figure size 432x288 with 1 Axes>"
      ]
     },
     "metadata": {
      "needs_background": "light"
     },
     "output_type": "display_data"
    }
   ],
   "source": [
    "deaths.drop([\"LTCF\", \"Non_ltcf\"], inplace=True, axis=1)\n",
    "deaths.plot()"
   ]
  },
  {
   "cell_type": "code",
   "execution_count": 39,
   "metadata": {},
   "outputs": [
    {
     "data": {
      "text/plain": [
       "<AxesSubplot:xlabel='Date'>"
      ]
     },
     "execution_count": 39,
     "metadata": {},
     "output_type": "execute_result"
    },
    {
     "data": {
      "image/png": "[encoded data removed]",
      "text/plain": [
       "<Figure size 432x288 with 1 Axes>"
      ]
     },
     "metadata": {
      "needs_background": "light"
     },
     "output_type": "display_data"
    }
   ],
   "source": [
    "deaths.columns = [\"Daily_deaths\", \"Cumulative_deaths\"]\n",
    "deaths.index = pd.to_datetime(deaths.index)\n",
    "deaths.plot()"
   ]
  },
  {
   "cell_type": "code",
   "execution_count": 40,
   "metadata": {},
   "outputs": [
    {
     "data": {
      "text/plain": [
       "<AxesSubplot:xlabel='Date'>"
      ]
     },
     "execution_count": 40,
     "metadata": {},
     "output_type": "execute_result"
    },
    {
     "data": {
      "image/png": "[encoded data removed]",
      "text/plain": [
       "<Figure size 432x288 with 1 Axes>"
      ]
     },
     "metadata": {
      "needs_background": "light"
     },
     "output_type": "display_data"
    }
   ],
   "source": [
    "cases = pd.read_csv(\"./COVID-19_case_counts_by_date.csv\",\n",
    "                    index_col=\"Date\")\n",
    "cases.index = pd.to_datetime(cases.index)\n",
    "cases.plot()"
   ]
  },
  {
   "cell_type": "markdown",
   "metadata": {},
   "source": [
    "#### We can't see how many are sick on a particular day from these data."
   ]
  },
  {
   "cell_type": "code",
   "execution_count": 41,
   "metadata": {},
   "outputs": [
    {
     "data": {
      "text/html": [
       "<div>\n",
       "<style scoped>\n",
       "    .dataframe tbody tr th:only-of-type {\n",
       "        vertical-align: middle;\n",
       "    }\n",
       "\n",
       "    .dataframe tbody tr th {\n",
       "        vertical-align: top;\n",
       "    }\n",
       "\n",
       "    .dataframe thead th {\n",
       "        text-align: right;\n",
       "    }\n",
       "</style>\n",
       "<table border=\"1\" class=\"dataframe\">\n",
       "  <thead>\n",
       "    <tr style=\"text-align: right;\">\n",
       "      <th></th>\n",
       "      <th>Cumulative_cases</th>\n",
       "      <th>New_cases</th>\n",
       "    </tr>\n",
       "    <tr>\n",
       "      <th>Date</th>\n",
       "      <th></th>\n",
       "      <th></th>\n",
       "    </tr>\n",
       "  </thead>\n",
       "  <tbody>\n",
       "    <tr>\n",
       "      <th>2020-01-27</th>\n",
       "      <td>1</td>\n",
       "      <td>1</td>\n",
       "    </tr>\n",
       "    <tr>\n",
       "      <th>2020-01-28</th>\n",
       "      <td>1</td>\n",
       "      <td>0</td>\n",
       "    </tr>\n",
       "    <tr>\n",
       "      <th>2020-01-29</th>\n",
       "      <td>2</td>\n",
       "      <td>1</td>\n",
       "    </tr>\n",
       "    <tr>\n",
       "      <th>2020-01-30</th>\n",
       "      <td>2</td>\n",
       "      <td>0</td>\n",
       "    </tr>\n",
       "    <tr>\n",
       "      <th>2020-01-31</th>\n",
       "      <td>2</td>\n",
       "      <td>0</td>\n",
       "    </tr>\n",
       "    <tr>\n",
       "      <th>...</th>\n",
       "      <td>...</td>\n",
       "      <td>...</td>\n",
       "    </tr>\n",
       "    <tr>\n",
       "      <th>2020-08-31</th>\n",
       "      <td>17918</td>\n",
       "      <td>138</td>\n",
       "    </tr>\n",
       "    <tr>\n",
       "      <th>2020-09-01</th>\n",
       "      <td>18130</td>\n",
       "      <td>212</td>\n",
       "    </tr>\n",
       "    <tr>\n",
       "      <th>2020-09-02</th>\n",
       "      <td>18313</td>\n",
       "      <td>183</td>\n",
       "    </tr>\n",
       "    <tr>\n",
       "      <th>2020-09-03</th>\n",
       "      <td>18385</td>\n",
       "      <td>72</td>\n",
       "    </tr>\n",
       "    <tr>\n",
       "      <th>2020-09-04</th>\n",
       "      <td>18388</td>\n",
       "      <td>3</td>\n",
       "    </tr>\n",
       "  </tbody>\n",
       "</table>\n",
       "<p>222 rows × 2 columns</p>\n",
       "</div>"
      ],
      "text/plain": [
       "            Cumulative_cases  New_cases\n",
       "Date                                   \n",
       "2020-01-27                 1          1\n",
       "2020-01-28                 1          0\n",
       "2020-01-29                 2          1\n",
       "2020-01-30                 2          0\n",
       "2020-01-31                 2          0\n",
       "...                      ...        ...\n",
       "2020-08-31             17918        138\n",
       "2020-09-01             18130        212\n",
       "2020-09-02             18313        183\n",
       "2020-09-03             18385         72\n",
       "2020-09-04             18388          3\n",
       "\n",
       "[222 rows x 2 columns]"
      ]
     },
     "execution_count": 41,
     "metadata": {},
     "output_type": "execute_result"
    }
   ],
   "source": [
    "cases.rename({\"Total_cases\":\"Cumulative_cases\"}, axis=1, inplace=True)\n",
    "cases"
   ]
  },
  {
   "cell_type": "markdown",
   "metadata": {},
   "source": [
    "#### Joining the data sets."
   ]
  },
  {
   "cell_type": "code",
   "execution_count": 42,
   "metadata": {},
   "outputs": [
    {
     "name": "stdout",
     "output_type": "stream",
     "text": [
      " hosps: from 2020-03-27 00:00:00 to 2020-09-04 00:00:00 = 162\n",
      "deaths: from 2020-02-06 00:00:00 to 2020-09-04 00:00:00 = 132\n",
      " cases: from 2020-01-27 00:00:00 to 2020-09-04 00:00:00 = 222\n"
     ]
    }
   ],
   "source": [
    "\n",
    "# joining these three datasets on the index, the default, gives an error:  \n",
    "# index has overlapping values\n",
    "# I found three ways to fix this\n",
    "#  1. use concat\n",
    "#  2. leave dates in str form and change them to datetime after the join\n",
    "#  3. reindex so that the three datasets have the same index\n",
    "# Doing # 3.\n",
    "\n",
    "print(f\"\"\" hosps: from {hosps.index[0]} to {hosps.index[-1]} = {len(hosps.index)}\n",
    "deaths: from {deaths.index[0]} to {deaths.index[-1]} = {len(deaths.index)}\n",
    " cases: from {cases.index[0]} to {cases.index[-1]} = {len(cases.index)}\"\"\")"
   ]
  },
  {
   "cell_type": "code",
   "execution_count": 43,
   "metadata": {},
   "outputs": [
    {
     "data": {
      "text/plain": [
       "<AxesSubplot:xlabel='Date'>"
      ]
     },
     "execution_count": 43,
     "metadata": {},
     "output_type": "execute_result"
    },
    {
     "data": {
      "image/png": "[encoded data removed]",
      "text/plain": [
       "<Figure size 432x288 with 1 Axes>"
      ]
     },
     "metadata": {
      "needs_background": "light"
     },
     "output_type": "display_data"
    }
   ],
   "source": [
    "hosps = hosps.reindex(cases.index) # does not have an inplace argument\n",
    "hosps.plot()"
   ]
  },
  {
   "cell_type": "code",
   "execution_count": 44,
   "metadata": {},
   "outputs": [
    {
     "data": {
      "text/plain": [
       "<AxesSubplot:xlabel='Date'>"
      ]
     },
     "execution_count": 44,
     "metadata": {},
     "output_type": "execute_result"
    },
    {
     "data": {
      "image/png": "[encoded data removed]",
      "text/plain": [
       "<Figure size 432x288 with 1 Axes>"
      ]
     },
     "metadata": {
      "needs_background": "light"
     },
     "output_type": "display_data"
    }
   ],
   "source": [
    "deaths = deaths.reindex(cases.index)\n",
    "deaths.plot()"
   ]
  },
  {
   "cell_type": "code",
   "execution_count": 45,
   "metadata": {},
   "outputs": [
    {
     "data": {
      "text/plain": [
       "<AxesSubplot:xlabel='Date'>"
      ]
     },
     "execution_count": 45,
     "metadata": {},
     "output_type": "execute_result"
    },
    {
     "data": {
      "image/png": "[encoded data removed]",
      "text/plain": [
       "<Figure size 432x288 with 1 Axes>"
      ]
     },
     "metadata": {
      "needs_background": "light"
     },
     "output_type": "display_data"
    }
   ],
   "source": [
    "cases = cases.join([hosps, deaths])\n",
    "cases.plot()"
   ]
  },
  {
   "cell_type": "code",
   "execution_count": 46,
   "metadata": {},
   "outputs": [
    {
     "data": {
      "text/plain": [
       "Index(['Cumulative_cases', 'New_cases', 'Daily_hosp_total', 'Daily_deaths',\n",
       "       'Cumulative_deaths'],\n",
       "      dtype='object')"
      ]
     },
     "execution_count": 46,
     "metadata": {},
     "output_type": "execute_result"
    }
   ],
   "source": [
    "cases.columns"
   ]
  },
  {
   "cell_type": "code",
   "execution_count": 47,
   "metadata": {},
   "outputs": [
    {
     "data": {
      "text/plain": [
       "['New_cases', 'Daily_hosp_total', 'Daily_deaths', 'Cumulative_deaths']"
      ]
     },
     "execution_count": 47,
     "metadata": {},
     "output_type": "execute_result"
    }
   ],
   "source": [
    "small_columns = list(cases.columns)\n",
    "small_columns.remove(\"Cumulative_cases\")\n",
    "small_columns"
   ]
  },
  {
   "cell_type": "code",
   "execution_count": 48,
   "metadata": {},
   "outputs": [
    {
     "data": {
      "text/plain": [
       "Text(0, 0.5, 'Cumulative Cases')"
      ]
     },
     "execution_count": 48,
     "metadata": {},
     "output_type": "execute_result"
    },
    {
     "data": {
      "image/png": "[encoded data removed]",
      "text/plain": [
       "<Figure size 432x288 with 2 Axes>"
      ]
     },
     "metadata": {
      "needs_background": "light"
     },
     "output_type": "display_data"
    }
   ],
   "source": [
    "import matplotlib.pyplot as plt\n",
    "fig = plt.figure()\n",
    "ax = fig.add_subplot(title=\"Covid Data\")\n",
    "colors = [\"purple\",\"g\",\"b\", \"orange\"]\n",
    "\n",
    "for color, column in zip(colors, small_columns):\n",
    "    column_str = column.replace('_', ' ').title()\n",
    "    axes = cases[column].plot(color=color, label=column_str)\n",
    "axes.set_ylabel(\"Counts\")\n",
    "plt.legend()\n",
    "\n",
    "axes = cases[\"Cumulative_cases\"].plot(c=\"r\", secondary_y=True,label=\"Cumulative Cases\")\n",
    "axes.set_ylabel(\"Cumulative Cases\", color='r')"
   ]
  },
  {
   "cell_type": "code",
   "execution_count": 49,
   "metadata": {},
   "outputs": [
    {
     "data": {
      "text/plain": [
       "<AxesSubplot:xlabel='Date'>"
      ]
     },
     "execution_count": 49,
     "metadata": {},
     "output_type": "execute_result"
    },
    {
     "data": {
      "image/png": "[encoded data removed]",
      "text/plain": [
       "<Figure size 432x288 with 1 Axes>"
      ]
     },
     "metadata": {
      "needs_background": "light"
     },
     "output_type": "display_data"
    }
   ],
   "source": [
    "\n",
    "# Looking closer at a piece to see that New_cases cycling somewhat regularly.\n",
    "cases[\"New_cases\"].plot(xlim=(\"2020-08-01\",\"2020-09-01\"), ylim=(50,350),grid=True)"
   ]
  },
  {
   "cell_type": "code",
   "execution_count": 50,
   "metadata": {},
   "outputs": [
    {
     "data": {
      "text/plain": [
       "(0.0, 10.0)"
      ]
     },
     "execution_count": 50,
     "metadata": {},
     "output_type": "execute_result"
    },
    {
     "data": {
      "image/png": "[encoded data removed]",
      "text/plain": [
       "<Figure size 432x288 with 2 Axes>"
      ]
     },
     "metadata": {
      "needs_background": "light"
     },
     "output_type": "display_data"
    }
   ],
   "source": [
    "from numpy.fft import rfft, rfftfreq\n",
    "import numpy as np\n",
    "\n",
    "sampling_rate = 365 # per year\n",
    "results = pd.DataFrame()\n",
    "results[\"fft_new_cases\"] = abs(rfft(cases[\"New_cases\"])) # np array\n",
    "results[\"fft_new_cases\"].replace(0, np.nan, inplace=True) \n",
    "results[\"frequencies\"] = rfftfreq(len(cases)) * sampling_rate  \n",
    "\n",
    "fig, ax = plt.subplots(1,2)\n",
    "\n",
    "ax[0].semilogy(results[\"frequencies\"], results[\"fft_new_cases\"])\n",
    "ax[0].set_xlabel('Frequency in Cycles per Year')\n",
    "ax[0].set_ylabel('Frequency Domain (Spectrum) Magnitude')\n",
    "\n",
    "ax[1].plot(sampling_rate/results[\"frequencies\"], results[\"fft_new_cases\"])  # Scaling frequencies to be per day\n",
    "ax[1].set_xlabel(\"Cycle Length in Days\") \n",
    "ax[1].set_ylabel('Frequency Domain (Spectrum) Magnitude')\n",
    "ax[1].set_xlim((0,10))"
   ]
  },
  {
   "cell_type": "markdown",
   "metadata": {},
   "source": [
    "Wow!  That's seems significant.\n",
    "\n",
    "Let's try to see the movement in deaths/cases."
   ]
  },
  {
   "cell_type": "code",
   "execution_count": 51,
   "metadata": {},
   "outputs": [],
   "source": [
    "cases[\"%deaths_from_hospital_data\"] = cases[\"Daily_deaths\"]/cases[\"Daily_hosp_total\"]\n",
    "cases[\"%deaths_from_cumulatives\"] = cases[\"Cumulative_deaths\"]/cases[\"Cumulative_cases\"]"
   ]
  },
  {
   "cell_type": "code",
   "execution_count": 52,
   "metadata": {},
   "outputs": [
    {
     "data": {
      "text/plain": [
       "<matplotlib.legend.Legend at 0x182c5ad0610>"
      ]
     },
     "execution_count": 52,
     "metadata": {},
     "output_type": "execute_result"
    },
    {
     "data": {
      "image/png": "[encoded data removed]",
      "text/plain": [
       "<Figure size 432x288 with 1 Axes>"
      ]
     },
     "metadata": {
      "needs_background": "light"
     },
     "output_type": "display_data"
    }
   ],
   "source": [
    "fig = plt.figure()\n",
    "fig.add_subplot(title=\"Raw\")\n",
    "cases[\"%deaths_from_hospital_data\"].plot(label=\"Raw Hospital Data\", ylabel=\"% Deaths\", color=\"r\",ylim=(0,.1))\n",
    "cases[\"%deaths_from_cumulatives\"].plot(label=\"Raw Cumulative Data\", ylim=(0,.1))\n",
    "fig.legend()"
   ]
  },
  {
   "cell_type": "code",
   "execution_count": 53,
   "metadata": {},
   "outputs": [
    {
     "data": {
      "text/plain": [
       "<matplotlib.legend.Legend at 0x182c5344970>"
      ]
     },
     "execution_count": 53,
     "metadata": {},
     "output_type": "execute_result"
    },
    {
     "data": {
      "image/png": "[encoded data removed]",
      "text/plain": [
       "<Figure size 432x288 with 1 Axes>"
      ]
     },
     "metadata": {
      "needs_background": "light"
     },
     "output_type": "display_data"
    }
   ],
   "source": [
    "cases[\"%deaths_from_hospital_data_interpolated\"] = cases[\"Daily_deaths\"].interpolate(     \n",
    "                                                )/cases[\"Daily_hosp_total\"].interpolate()\n",
    "cases[\"%deaths_from_cumulatives_interpolated\"] = cases[\"Cumulative_deaths\"].interpolate(\n",
    "                                                )/cases[\"Cumulative_cases\"].interpolate()\n",
    "\n",
    "fig = plt.figure()\n",
    "fig.add_subplot(title=\"Interpolated\")\n",
    "cases[\"%deaths_from_hospital_data_interpolated\"].plot(label=\"Hospital Data\", ylabel=\"% Deaths\", color=\"r\")\n",
    "cases[\"%deaths_from_cumulatives_interpolated\"].plot(label=\"Cumulative Data\")\n",
    "plt.legend()"
   ]
  },
  {
   "cell_type": "code",
   "execution_count": 54,
   "metadata": {},
   "outputs": [],
   "source": [
    "\n",
    "# dropping before 3/15\n",
    "# trimmed_cases = cases.loc[:\"2020-03-14\",:]  # produces SettingWithCopyWarning in division below\n",
    "droppers = cases.index[cases.index < \"2020-03-15\"]\n",
    "cases_trimmed = cases.loc[:,[\"Daily_deaths\", \"Daily_hosp_total\",\"%deaths_from_hospital_data_interpolated\", \n",
    "                                      \"Cumulative_deaths\", \"Cumulative_cases\",\n",
    "                             \"%deaths_from_cumulatives_interpolated\"]]\n",
    "cases_trimmed.drop(droppers, inplace=True)"
   ]
  },
  {
   "cell_type": "code",
   "execution_count": 55,
   "metadata": {},
   "outputs": [
    {
     "data": {
      "text/plain": [
       "<matplotlib.legend.Legend at 0x182c6c182e0>"
      ]
     },
     "execution_count": 55,
     "metadata": {},
     "output_type": "execute_result"
    },
    {
     "data": {
      "image/png": "[encoded data removed]",
      "text/plain": [
       "<Figure size 432x288 with 1 Axes>"
      ]
     },
     "metadata": {
      "needs_background": "light"
     },
     "output_type": "display_data"
    }
   ],
   "source": [
    "fig = plt.figure()\n",
    "first_day = f\"{cases_trimmed.index[0]}\"[:10]\n",
    "last_day = f\"{cases_trimmed.index[-1]}\"[:10]\n",
    "fig.add_subplot(title=f\"{first_day} to {last_day} - Interpolated\")\n",
    "cases_trimmed[\"%deaths_from_hospital_data_interpolated\"].plot(label=\"Hospital Data\", ylabel=\"% Deaths\", color=\"r\")\n",
    "cases_trimmed[\"%deaths_from_cumulatives_interpolated\"].plot(label=\"Cumulative Data\")\n",
    "plt.legend()"
   ]
  },
  {
   "cell_type": "markdown",
   "metadata": {},
   "source": [
    "## Rolling Statistics\n",
    "We'll get the rolling mean over a week"
   ]
  },
  {
   "cell_type": "code",
   "execution_count": 56,
   "metadata": {},
   "outputs": [],
   "source": [
    "\n",
    "# To see details of df.rolling: ?cases.rolling \n",
    "from datetime import timedelta\n",
    "one_week = timedelta(days=7)\n",
    "\n",
    "cases_trimmed[\"%rolling_deaths_from_hospital_data\"] = cases_trimmed[\"Daily_deaths\"].rolling(one_week).mean(\n",
    "                                                        )/cases_trimmed[\"Daily_hosp_total\"].rolling(one_week).mean()\n",
    "\n",
    "cases_trimmed[\"%rolling_deaths_from_cumulatives\"] = cases_trimmed[\"Cumulative_deaths\"].rolling(one_week).mean(\n",
    "                                                    )/cases_trimmed[\"Cumulative_cases\"].rolling(one_week).mean()"
   ]
  },
  {
   "cell_type": "code",
   "execution_count": 57,
   "metadata": {},
   "outputs": [
    {
     "data": {
      "text/plain": [
       "<matplotlib.legend.Legend at 0x182c6cd2e80>"
      ]
     },
     "execution_count": 57,
     "metadata": {},
     "output_type": "execute_result"
    },
    {
     "data": {
      "image/png": "[encoded data removed]",
      "text/plain": [
       "<Figure size 432x288 with 1 Axes>"
      ]
     },
     "metadata": {
      "needs_background": "light"
     },
     "output_type": "display_data"
    }
   ],
   "source": [
    "fig = plt.figure()\n",
    "fig.add_subplot(title=\"Rolling Mean\")\n",
    "cases_trimmed[\"%rolling_deaths_from_hospital_data\"].plot(label=\"Hospital Data\", ylabel=\"% Deaths\", color=\"r\")\n",
    "cases_trimmed[\"%rolling_deaths_from_cumulatives\"].plot(label=\"Cumulative Data\")\n",
    "plt.legend()"
   ]
  },
  {
   "cell_type": "markdown",
   "metadata": {},
   "source": [
    "#### Looking for correlations."
   ]
  },
  {
   "cell_type": "code",
   "execution_count": 58,
   "metadata": {},
   "outputs": [
    {
     "data": {
      "text/plain": [
       "[(0, 'Cumulative_cases'),\n",
       " (1, 'New_cases'),\n",
       " (2, 'Daily_hosp_total'),\n",
       " (3, 'Daily_deaths'),\n",
       " (4, 'Cumulative_deaths'),\n",
       " (5, '%deaths_from_hospital_data'),\n",
       " (6, '%deaths_from_cumulatives'),\n",
       " (7, '%deaths_from_hospital_data_interpolated'),\n",
       " (8, '%deaths_from_cumulatives_interpolated')]"
      ]
     },
     "execution_count": 58,
     "metadata": {},
     "output_type": "execute_result"
    }
   ],
   "source": [
    "list(enumerate(cases.columns))"
   ]
  },
  {
   "cell_type": "code",
   "execution_count": 59,
   "metadata": {},
   "outputs": [],
   "source": [
    "cases.drop(cases.columns[5:], axis=1, inplace=True)"
   ]
  },
  {
   "cell_type": "code",
   "execution_count": 60,
   "metadata": {},
   "outputs": [
    {
     "data": {
      "text/html": [
       "<div>\n",
       "<style scoped>\n",
       "    .dataframe tbody tr th:only-of-type {\n",
       "        vertical-align: middle;\n",
       "    }\n",
       "\n",
       "    .dataframe tbody tr th {\n",
       "        vertical-align: top;\n",
       "    }\n",
       "\n",
       "    .dataframe thead th {\n",
       "        text-align: right;\n",
       "    }\n",
       "</style>\n",
       "<table border=\"1\" class=\"dataframe\">\n",
       "  <thead>\n",
       "    <tr style=\"text-align: right;\">\n",
       "      <th></th>\n",
       "      <th>Cumulative_cases</th>\n",
       "      <th>New_cases</th>\n",
       "      <th>Daily_hosp_total</th>\n",
       "      <th>Daily_deaths</th>\n",
       "      <th>Cumulative_deaths</th>\n",
       "    </tr>\n",
       "  </thead>\n",
       "  <tbody>\n",
       "    <tr>\n",
       "      <th>Cumulative_cases</th>\n",
       "      <td>0.000000</td>\n",
       "      <td>0.714753</td>\n",
       "      <td>0.537553</td>\n",
       "      <td>-0.060846</td>\n",
       "      <td>0.888117</td>\n",
       "    </tr>\n",
       "    <tr>\n",
       "      <th>New_cases</th>\n",
       "      <td>0.714753</td>\n",
       "      <td>0.000000</td>\n",
       "      <td>0.508678</td>\n",
       "      <td>-0.069607</td>\n",
       "      <td>0.582687</td>\n",
       "    </tr>\n",
       "    <tr>\n",
       "      <th>Daily_hosp_total</th>\n",
       "      <td>0.537553</td>\n",
       "      <td>0.508678</td>\n",
       "      <td>0.000000</td>\n",
       "      <td>0.227941</td>\n",
       "      <td>0.114544</td>\n",
       "    </tr>\n",
       "    <tr>\n",
       "      <th>Daily_deaths</th>\n",
       "      <td>-0.060846</td>\n",
       "      <td>-0.069607</td>\n",
       "      <td>0.227941</td>\n",
       "      <td>0.000000</td>\n",
       "      <td>-0.144828</td>\n",
       "    </tr>\n",
       "    <tr>\n",
       "      <th>Cumulative_deaths</th>\n",
       "      <td>0.888117</td>\n",
       "      <td>0.582687</td>\n",
       "      <td>0.114544</td>\n",
       "      <td>-0.144828</td>\n",
       "      <td>0.000000</td>\n",
       "    </tr>\n",
       "  </tbody>\n",
       "</table>\n",
       "</div>"
      ],
      "text/plain": [
       "                   Cumulative_cases  New_cases  Daily_hosp_total  \\\n",
       "Cumulative_cases           0.000000   0.714753          0.537553   \n",
       "New_cases                  0.714753   0.000000          0.508678   \n",
       "Daily_hosp_total           0.537553   0.508678          0.000000   \n",
       "Daily_deaths              -0.060846  -0.069607          0.227941   \n",
       "Cumulative_deaths          0.888117   0.582687          0.114544   \n",
       "\n",
       "                   Daily_deaths  Cumulative_deaths  \n",
       "Cumulative_cases      -0.060846           0.888117  \n",
       "New_cases             -0.069607           0.582687  \n",
       "Daily_hosp_total       0.227941           0.114544  \n",
       "Daily_deaths           0.000000          -0.144828  \n",
       "Cumulative_deaths     -0.144828           0.000000  "
      ]
     },
     "execution_count": 60,
     "metadata": {},
     "output_type": "execute_result"
    }
   ],
   "source": [
    "corr = cases.corr()\n",
    "corr.replace(1, 0, inplace=True) # So that the diagonal is not the max\n",
    "corr"
   ]
  },
  {
   "cell_type": "code",
   "execution_count": 61,
   "metadata": {},
   "outputs": [
    {
     "data": {
      "text/plain": [
       "0.88811669733393"
      ]
     },
     "execution_count": 61,
     "metadata": {},
     "output_type": "execute_result"
    }
   ],
   "source": [
    "max_corr = corr.max().max()\n",
    "max_corr"
   ]
  },
  {
   "cell_type": "code",
   "execution_count": 62,
   "metadata": {},
   "outputs": [
    {
     "data": {
      "text/html": [
       "<div>\n",
       "<style scoped>\n",
       "    .dataframe tbody tr th:only-of-type {\n",
       "        vertical-align: middle;\n",
       "    }\n",
       "\n",
       "    .dataframe tbody tr th {\n",
       "        vertical-align: top;\n",
       "    }\n",
       "\n",
       "    .dataframe thead th {\n",
       "        text-align: right;\n",
       "    }\n",
       "</style>\n",
       "<table border=\"1\" class=\"dataframe\">\n",
       "  <thead>\n",
       "    <tr style=\"text-align: right;\">\n",
       "      <th></th>\n",
       "      <th>Cumulative_cases</th>\n",
       "      <th>New_cases</th>\n",
       "      <th>Daily_hosp_total</th>\n",
       "      <th>Daily_deaths</th>\n",
       "      <th>Cumulative_deaths</th>\n",
       "    </tr>\n",
       "  </thead>\n",
       "  <tbody>\n",
       "    <tr>\n",
       "      <th>Cumulative_cases</th>\n",
       "      <td>0.000000</td>\n",
       "      <td>0.714753</td>\n",
       "      <td>0.537553</td>\n",
       "      <td>-0.060846</td>\n",
       "      <td>0.888117</td>\n",
       "    </tr>\n",
       "    <tr>\n",
       "      <th>New_cases</th>\n",
       "      <td>0.714753</td>\n",
       "      <td>0.000000</td>\n",
       "      <td>0.508678</td>\n",
       "      <td>-0.069607</td>\n",
       "      <td>0.582687</td>\n",
       "    </tr>\n",
       "    <tr>\n",
       "      <th>Cumulative_deaths</th>\n",
       "      <td>0.888117</td>\n",
       "      <td>0.582687</td>\n",
       "      <td>0.114544</td>\n",
       "      <td>-0.144828</td>\n",
       "      <td>0.000000</td>\n",
       "    </tr>\n",
       "  </tbody>\n",
       "</table>\n",
       "</div>"
      ],
      "text/plain": [
       "                   Cumulative_cases  New_cases  Daily_hosp_total  \\\n",
       "Cumulative_cases           0.000000   0.714753          0.537553   \n",
       "New_cases                  0.714753   0.000000          0.508678   \n",
       "Cumulative_deaths          0.888117   0.582687          0.114544   \n",
       "\n",
       "                   Daily_deaths  Cumulative_deaths  \n",
       "Cumulative_cases      -0.060846           0.888117  \n",
       "New_cases             -0.069607           0.582687  \n",
       "Cumulative_deaths     -0.144828           0.000000  "
      ]
     },
     "execution_count": 62,
     "metadata": {},
     "output_type": "execute_result"
    }
   ],
   "source": [
    "big_corr = .7\n",
    "corr[(corr[\"Cumulative_cases\"] > big_corr) \n",
    "     | (corr[\"New_cases\"] > big_corr) \n",
    "     | (corr[\"Daily_hosp_total\"] > big_corr)\n",
    "     |(corr[\"Daily_deaths\"] > big_corr) \n",
    "     | (corr[\"Cumulative_deaths\"] > big_corr)]"
   ]
  },
  {
   "cell_type": "code",
   "execution_count": 63,
   "metadata": {},
   "outputs": [
    {
     "name": "stdout",
     "output_type": "stream",
     "text": [
      "Big Correlations:\n",
      "0.888 : Cumulative_cases Cumulative_deaths\n",
      "0.715 : Cumulative_cases New_cases\n"
     ]
    }
   ],
   "source": [
    "\n",
    "# Finding the row/column with correlations > big_corr\n",
    "\n",
    "big_correlations = {}\n",
    "\n",
    "for col in corr.columns:\n",
    "    for ind in corr.index:\n",
    "        if corr.loc[ind, col] >= big_corr:\n",
    "            d_key = tuple(sorted([ind, col]))\n",
    "            big_correlations[d_key] = corr.loc[ind, col]\n",
    "print(\"Big Correlations:\",)\n",
    "for d_key in sorted(big_correlations, key=lambda d_key:big_correlations.get(d_key), reverse=True):\n",
    "     print(f\"{big_correlations[d_key]:.3f} : {d_key[0]} {d_key[1]}\")"
   ]
  },
  {
   "cell_type": "code",
   "execution_count": 64,
   "metadata": {},
   "outputs": [
    {
     "data": {
      "text/plain": [
       "{'Cumulative_cases', 'Cumulative_deaths', 'New_cases'}"
      ]
     },
     "execution_count": 64,
     "metadata": {},
     "output_type": "execute_result"
    }
   ],
   "source": [
    "big_corr_cols = []\n",
    "for cor in big_correlations:\n",
    "    big_corr_cols.extend([cor[0], cor[1]])\n",
    "big_corr_cols = set(big_corr_cols)\n",
    "big_corr_cols"
   ]
  },
  {
   "cell_type": "code",
   "execution_count": 65,
   "metadata": {},
   "outputs": [
    {
     "data": {
      "text/plain": [
       "[]"
      ]
     },
     "execution_count": 65,
     "metadata": {},
     "output_type": "execute_result"
    },
    {
     "data": {
      "image/png": "[encoded data removed]",
      "text/plain": [
       "<Figure size 432x288 with 3 Axes>"
      ]
     },
     "metadata": {
      "needs_background": "light"
     },
     "output_type": "display_data"
    }
   ],
   "source": [
    "fig, axes = plt.subplots()\n",
    "axes.set_xlabel(\"Date\")\n",
    "fig.autofmt_xdate()\n",
    "axes.set_title(\"Covid Data\")\n",
    "cols_to_plot = list(big_corr_cols)\n",
    "\n",
    "colors = [\"blue\", \"red\", \"green\", \"orange\"]\n",
    "color = colors.pop()\n",
    "first_column = cols_to_plot.pop(0)\n",
    "first_label = first_column.title()\n",
    "\n",
    "axes.set_ylabel(first_label, color=color)\n",
    "axes.plot(cases[first_column], color=color, label=first_label)\n",
    "\n",
    "new_axes = []\n",
    "axis_position = 1  \n",
    "\n",
    "def SetTwin(col):\n",
    "    global axis_position  # to assign to a global identifier\n",
    "    color = colors.pop()\n",
    "    new_axes.append(axes.twinx())\n",
    "    label = col.title()\n",
    "    new_axes[-1].set_ylabel(label, color=color)\n",
    "    new_axes[-1].plot(cases[col], color=color, label=label)\n",
    "    axis_position += .2\n",
    "    new_axes[-1].spines[\"right\"].set_position((\"axes\", axis_position))\n",
    "    \n",
    "for col in cols_to_plot:\n",
    "    SetTwin(col)\n",
    "    \n",
    "plt.plot()"
   ]
  },
  {
   "cell_type": "markdown",
   "metadata": {},
   "source": [
    "## Reshaping with `unstack`"
   ]
  },
  {
   "cell_type": "code",
   "execution_count": 66,
   "metadata": {
    "scrolled": false
   },
   "outputs": [
    {
     "data": {
      "text/plain": [
       "Cumulative_deaths  Cumulative_cases     0.888117\n",
       "Cumulative_cases   Cumulative_deaths    0.888117\n",
       "                   New_cases            0.714753\n",
       "New_cases          Cumulative_cases     0.714753\n",
       "                   Cumulative_deaths    0.582687\n",
       "Cumulative_deaths  New_cases            0.582687\n",
       "Daily_hosp_total   Cumulative_cases     0.537553\n",
       "Cumulative_cases   Daily_hosp_total     0.537553\n",
       "New_cases          Daily_hosp_total     0.508678\n",
       "Daily_hosp_total   New_cases            0.508678\n",
       "                   Daily_deaths         0.227941\n",
       "Daily_deaths       Daily_hosp_total     0.227941\n",
       "Cumulative_deaths  Daily_deaths         0.144828\n",
       "Daily_deaths       Cumulative_deaths    0.144828\n",
       "Daily_hosp_total   Cumulative_deaths    0.114544\n",
       "Cumulative_deaths  Daily_hosp_total     0.114544\n",
       "New_cases          Daily_deaths         0.069607\n",
       "Daily_deaths       New_cases            0.069607\n",
       "Cumulative_cases   Daily_deaths         0.060846\n",
       "Daily_deaths       Cumulative_cases     0.060846\n",
       "Cumulative_cases   Cumulative_cases     0.000000\n",
       "Daily_hosp_total   Daily_hosp_total     0.000000\n",
       "Daily_deaths       Daily_deaths         0.000000\n",
       "New_cases          New_cases            0.000000\n",
       "Cumulative_deaths  Cumulative_deaths    0.000000\n",
       "dtype: float64"
      ]
     },
     "execution_count": 66,
     "metadata": {},
     "output_type": "execute_result"
    }
   ],
   "source": [
    "abs_corr = cases.corr().abs().replace(1,0)\n",
    "\n",
    "corr_unstacked = abs_corr.unstack()\n",
    "corr_unstacked.sort_values(ascending=False)"
   ]
  },
  {
   "cell_type": "code",
   "execution_count": 67,
   "metadata": {},
   "outputs": [
    {
     "data": {
      "text/html": [
       "<div>\n",
       "<style scoped>\n",
       "    .dataframe tbody tr th:only-of-type {\n",
       "        vertical-align: middle;\n",
       "    }\n",
       "\n",
       "    .dataframe tbody tr th {\n",
       "        vertical-align: top;\n",
       "    }\n",
       "\n",
       "    .dataframe thead th {\n",
       "        text-align: right;\n",
       "    }\n",
       "</style>\n",
       "<table border=\"1\" class=\"dataframe\">\n",
       "  <thead>\n",
       "    <tr style=\"text-align: right;\">\n",
       "      <th></th>\n",
       "      <th>Cumulative_cases</th>\n",
       "      <th>New_cases</th>\n",
       "      <th>Daily_hosp_total</th>\n",
       "      <th>Daily_deaths</th>\n",
       "      <th>Cumulative_deaths</th>\n",
       "    </tr>\n",
       "  </thead>\n",
       "  <tbody>\n",
       "    <tr>\n",
       "      <th>Cumulative_cases</th>\n",
       "      <td>1.000000</td>\n",
       "      <td>0.714753</td>\n",
       "      <td>0.537553</td>\n",
       "      <td>0.060846</td>\n",
       "      <td>0.888117</td>\n",
       "    </tr>\n",
       "    <tr>\n",
       "      <th>New_cases</th>\n",
       "      <td>0.714753</td>\n",
       "      <td>1.000000</td>\n",
       "      <td>0.508678</td>\n",
       "      <td>0.069607</td>\n",
       "      <td>0.582687</td>\n",
       "    </tr>\n",
       "    <tr>\n",
       "      <th>Daily_hosp_total</th>\n",
       "      <td>0.537553</td>\n",
       "      <td>0.508678</td>\n",
       "      <td>1.000000</td>\n",
       "      <td>0.227941</td>\n",
       "      <td>0.114544</td>\n",
       "    </tr>\n",
       "    <tr>\n",
       "      <th>Daily_deaths</th>\n",
       "      <td>0.060846</td>\n",
       "      <td>0.069607</td>\n",
       "      <td>0.227941</td>\n",
       "      <td>1.000000</td>\n",
       "      <td>0.144828</td>\n",
       "    </tr>\n",
       "    <tr>\n",
       "      <th>Cumulative_deaths</th>\n",
       "      <td>0.888117</td>\n",
       "      <td>0.582687</td>\n",
       "      <td>0.114544</td>\n",
       "      <td>0.144828</td>\n",
       "      <td>1.000000</td>\n",
       "    </tr>\n",
       "  </tbody>\n",
       "</table>\n",
       "</div>"
      ],
      "text/plain": [
       "                   Cumulative_cases  New_cases  Daily_hosp_total  \\\n",
       "Cumulative_cases           1.000000   0.714753          0.537553   \n",
       "New_cases                  0.714753   1.000000          0.508678   \n",
       "Daily_hosp_total           0.537553   0.508678          1.000000   \n",
       "Daily_deaths               0.060846   0.069607          0.227941   \n",
       "Cumulative_deaths          0.888117   0.582687          0.114544   \n",
       "\n",
       "                   Daily_deaths  Cumulative_deaths  \n",
       "Cumulative_cases       0.060846           0.888117  \n",
       "New_cases              0.069607           0.582687  \n",
       "Daily_hosp_total       0.227941           0.114544  \n",
       "Daily_deaths           1.000000           0.144828  \n",
       "Cumulative_deaths      0.144828           1.000000  "
      ]
     },
     "execution_count": 67,
     "metadata": {},
     "output_type": "execute_result"
    }
   ],
   "source": [
    "cases.corr().abs()"
   ]
  },
  {
   "cell_type": "code",
   "execution_count": 68,
   "metadata": {},
   "outputs": [
    {
     "name": "stderr",
     "output_type": "stream",
     "text": [
      "<ipython-input-68-8516ec37c6f5>:1: FutureWarning: Passing a set as an indexer is deprecated and will raise in a future version. Use a list instead.\n",
      "  big_corrs = cases.loc[:,big_corr_cols]\n"
     ]
    },
    {
     "data": {
      "text/html": [
       "<div>\n",
       "<style scoped>\n",
       "    .dataframe tbody tr th:only-of-type {\n",
       "        vertical-align: middle;\n",
       "    }\n",
       "\n",
       "    .dataframe tbody tr th {\n",
       "        vertical-align: top;\n",
       "    }\n",
       "\n",
       "    .dataframe thead th {\n",
       "        text-align: right;\n",
       "    }\n",
       "</style>\n",
       "<table border=\"1\" class=\"dataframe\">\n",
       "  <thead>\n",
       "    <tr style=\"text-align: right;\">\n",
       "      <th></th>\n",
       "      <th>New_cases</th>\n",
       "      <th>Cumulative_deaths</th>\n",
       "      <th>Cumulative_cases</th>\n",
       "    </tr>\n",
       "  </thead>\n",
       "  <tbody>\n",
       "    <tr>\n",
       "      <th>count</th>\n",
       "      <td>222.000000</td>\n",
       "      <td>132.000000</td>\n",
       "      <td>222.000000</td>\n",
       "    </tr>\n",
       "    <tr>\n",
       "      <th>mean</th>\n",
       "      <td>82.828829</td>\n",
       "      <td>136.643939</td>\n",
       "      <td>4794.743243</td>\n",
       "    </tr>\n",
       "    <tr>\n",
       "      <th>std</th>\n",
       "      <td>95.217814</td>\n",
       "      <td>72.610235</td>\n",
       "      <td>5495.565232</td>\n",
       "    </tr>\n",
       "    <tr>\n",
       "      <th>min</th>\n",
       "      <td>0.000000</td>\n",
       "      <td>1.000000</td>\n",
       "      <td>1.000000</td>\n",
       "    </tr>\n",
       "    <tr>\n",
       "      <th>25%</th>\n",
       "      <td>13.000000</td>\n",
       "      <td>79.250000</td>\n",
       "      <td>590.500000</td>\n",
       "    </tr>\n",
       "    <tr>\n",
       "      <th>50%</th>\n",
       "      <td>41.500000</td>\n",
       "      <td>144.500000</td>\n",
       "      <td>2466.500000</td>\n",
       "    </tr>\n",
       "    <tr>\n",
       "      <th>75%</th>\n",
       "      <td>136.750000</td>\n",
       "      <td>192.250000</td>\n",
       "      <td>7201.750000</td>\n",
       "    </tr>\n",
       "    <tr>\n",
       "      <th>max</th>\n",
       "      <td>384.000000</td>\n",
       "      <td>257.000000</td>\n",
       "      <td>18388.000000</td>\n",
       "    </tr>\n",
       "  </tbody>\n",
       "</table>\n",
       "</div>"
      ],
      "text/plain": [
       "        New_cases  Cumulative_deaths  Cumulative_cases\n",
       "count  222.000000         132.000000        222.000000\n",
       "mean    82.828829         136.643939       4794.743243\n",
       "std     95.217814          72.610235       5495.565232\n",
       "min      0.000000           1.000000          1.000000\n",
       "25%     13.000000          79.250000        590.500000\n",
       "50%     41.500000         144.500000       2466.500000\n",
       "75%    136.750000         192.250000       7201.750000\n",
       "max    384.000000         257.000000      18388.000000"
      ]
     },
     "execution_count": 68,
     "metadata": {},
     "output_type": "execute_result"
    }
   ],
   "source": [
    "big_corrs = cases.loc[:,big_corr_cols]\n",
    "big_corrs.describe()"
   ]
  },
  {
   "cell_type": "code",
   "execution_count": 69,
   "metadata": {},
   "outputs": [
    {
     "data": {
      "text/plain": [
       "<matplotlib.legend.Legend at 0x182c3d67bb0>"
      ]
     },
     "execution_count": 69,
     "metadata": {},
     "output_type": "execute_result"
    },
    {
     "data": {
      "image/png": "[encoded data removed]",
      "text/plain": [
       "<Figure size 432x288 with 2 Axes>"
      ]
     },
     "metadata": {
      "needs_background": "light"
     },
     "output_type": "display_data"
    }
   ],
   "source": [
    "fig = plt.figure()\n",
    "fig.add_subplot(title = \"Most Correlated\")\n",
    "cases[\"New_cases\"].plot(c=\"purple\", legend=\"New Cases\") # Doesn't show up in the legend!\n",
    "cases[\"Daily_hosp_total\"].plot(c=\"orange\", legend=\"Daily Hospital Total\")\n",
    "cases[\"Cumulative_deaths\"].plot(c=\"b\", legend=\"Cumulative Deaths\")\n",
    "cases[\"Cumulative_cases\"].plot(c=\"r\", secondary_y=True, legend=\"Cumulative Cases\")\n",
    "plt.legend()"
   ]
  }
 ],
 "metadata": {
  "kernelspec": {
   "display_name": "Python 3",
   "language": "python",
   "name": "python3"
  },
  "language_info": {
   "codemirror_mode": {
    "name": "ipython",
    "version": 3
   },
   "file_extension": ".py",
   "mimetype": "text/x-python",
   "name": "python",
   "nbconvert_exporter": "python",
   "pygments_lexer": "ipython3",
   "version": "3.8.1"
  }
 },
 "nbformat": 4,
 "nbformat_minor": 4
}
